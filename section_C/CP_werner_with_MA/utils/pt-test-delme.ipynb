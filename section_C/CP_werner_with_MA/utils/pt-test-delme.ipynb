{
 "cells": [
  {
   "cell_type": "code",
   "execution_count": 1,
   "metadata": {
    "collapsed": true
   },
   "outputs": [
    {
     "name": "stdout",
     "output_type": "stream",
     "text": [
      "(0.9999999999999998-2.949029909160572e-17j)\n",
      "[[[ 0.340292  +3.20266134e-18j -0.25761089-3.04074939e-01j\n",
      "   -0.16292015+3.38670118e-02j  0.15359784+1.19942354e-01j]\n",
      "  [-0.25761089+3.04074939e-01j  0.46673134-4.72951452e-18j\n",
      "    0.0930727 -1.71218970e-01j -0.22345497+4.64506823e-02j]\n",
      "  [-0.16292015-3.38670118e-02j  0.0930727 +1.71218970e-01j\n",
      "    0.08137115+1.56359369e-18j -0.06160031-7.27108661e-02j]\n",
      "  [ 0.15359784-1.19942354e-01j -0.22345497-4.64506823e-02j\n",
      "   -0.06160031+7.27108661e-02j  0.11160551-3.67405160e-20j]]]\n",
      "[[ 0.340292  +3.20266134e-18j -0.25761089+3.04074939e-01j\n",
      "  -0.16292015+3.38670118e-02j  0.0930727 -1.71218970e-01j]\n",
      " [-0.25761089-3.04074939e-01j  0.46673134-4.72951452e-18j\n",
      "   0.15359784+1.19942354e-01j -0.22345497+4.64506823e-02j]\n",
      " [-0.16292015-3.38670118e-02j  0.15359784-1.19942354e-01j\n",
      "   0.08137115+1.56359369e-18j -0.06160031+7.27108661e-02j]\n",
      " [ 0.0930727 +1.71218970e-01j -0.22345497-4.64506823e-02j\n",
      "  -0.06160031-7.27108661e-02j  0.11160551-3.67405160e-20j]]\n"
     ]
    },
    {
     "data": {
      "text/plain": "([], [0])"
     },
     "execution_count": 1,
     "metadata": {},
     "output_type": "execute_result"
    }
   ],
   "source": [
    "import Partial_Trace as pt\n",
    "import qiskit.quantum_info as qi\n",
    "\n",
    "rho = qi.random_density_matrix(dims=2, rank=1).tensor(qi.random_density_matrix(dims=2, rank=1))\n",
    "print(rho.purity())\n",
    "rho_d = rho.data.reshape(1, 4, 4)\n",
    "print(rho_d)\n",
    "print(pt.find(rho.data))\n",
    "pt.PPT(rho_d)"
   ]
  }
 ],
 "metadata": {
  "kernelspec": {
   "display_name": "Python 3",
   "language": "python",
   "name": "python3"
  },
  "language_info": {
   "codemirror_mode": {
    "name": "ipython",
    "version": 2
   },
   "file_extension": ".py",
   "mimetype": "text/x-python",
   "name": "python",
   "nbconvert_exporter": "python",
   "pygments_lexer": "ipython2",
   "version": "2.7.6"
  }
 },
 "nbformat": 4,
 "nbformat_minor": 0
}