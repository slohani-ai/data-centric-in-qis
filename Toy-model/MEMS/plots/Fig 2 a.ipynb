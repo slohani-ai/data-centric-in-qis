{
 "cells": [
  {
   "cell_type": "code",
   "execution_count": 1,
   "metadata": {
    "collapsed": true
   },
   "outputs": [],
   "source": [
    "import pandas as pd\n",
    "import numpy as np\n",
    "\n",
    "import matplotlib.pyplot as plt\n"
   ]
  },
  {
   "cell_type": "code",
   "execution_count": 2,
   "outputs": [
    {
     "name": "stdout",
     "output_type": "stream",
     "text": [
      "[2465.6  637.7  300.5  127.2   82.4   69.1   49.3   37.7]\n",
      "[123.80888498  51.5655893   39.55565699  21.03711007  13.87948126\n",
      "  12.3          8.19817053   7.78524245]\n",
      "[50.688 87.246 93.99  97.456 98.352 98.618 99.014 99.246]\n",
      "[2.4761777  1.03131179 0.79111314 0.4207422  0.27758963 0.246\n",
      " 0.16396341 0.15570485]\n",
      "[4989.1 4987.7 4990.  4990.  4990.2 4990.5 4988.7 4989.3]\n",
      "[2.54754784 2.19317122 2.56904652 2.82842712 2.44131112 2.37697286\n",
      " 2.64764046 2.57099203]\n",
      "[99.782 99.754 99.8   99.8   99.804 99.81  99.774 99.786]\n",
      "[0.05095096 0.04386342 0.05138093 0.05656854 0.04882622 0.04753946\n",
      " 0.05295281 0.05141984]\n"
     ]
    },
    {
     "data": {
      "text/plain": "<Figure size 432x288 with 1 Axes>",
      "image/png": "[encoded data removed]"
     },
     "metadata": {
      "needs_background": "light"
     },
     "output_type": "display_data"
    }
   ],
   "source": [
    "\n",
    "\n",
    "fidelity_list, fidelity_av, dms, pur_list, params_list, ent_list = pd.read_pickle(\n",
    "    \"../test_prediction_results_data_driven/fidelity_list_fid_av_pred_dm_params_alpha_MEMS_k_params_[[0.0, 1.0]]_qs_2_separability_mix_TEST.pickle\")\n",
    "\n",
    "fidelity_list_ent, fidelity_av_ent, dms_ent, pur_list_ent, params_list_ent, ent_list_ent = pd.read_pickle(\n",
    "    \"../test_prediction_results_data_driven/fidelity_list_fid_av_pred_dm_params_alpha_MEMS_k_params_[[0.0, 1.0]]_qs_2_separability_mix_TEST_entangled.pickle\")\n",
    "# fidelity_list, fidelity_av, dms, pur_list, params_list, ent_list = pd.read_pickle(\n",
    "#     \"../test_prediction_results_data_driven/fidelity_list_fid_av_pred_dm_params_alpha_Werner_k_params_[[0.0, 1.0]]_qs_2_separability_mix_TEST_purity_gt_.25.pickle\")\n",
    "ent_array = np.array(ent_list).reshape(-1, 10)\n",
    "ent_mean = ent_array.mean(axis=1)\n",
    "ent_std = ent_array.std(axis=1)\n",
    "print(ent_mean)\n",
    "print(ent_std)\n",
    "sep_array_percent = (5000-ent_array)*100/5000\n",
    "sep_classification_acc = sep_array_percent.mean(axis=1)\n",
    "sep_classification_std = sep_array_percent.std(axis=1)\n",
    "print(sep_classification_acc)\n",
    "print(sep_classification_std)\n",
    "\n",
    "\n",
    "ent_array_ent = np.array(ent_list_ent).reshape(-1, 10)\n",
    "ent_mean_ent = ent_array_ent.mean(axis=1)\n",
    "ent_std_ent = ent_array_ent.std(axis=1)\n",
    "print(ent_mean_ent)\n",
    "print(ent_std_ent)\n",
    "sep_array_percent_ent = (ent_array_ent)*100/5000\n",
    "sep_classification_acc_ent = sep_array_percent_ent.mean(axis=1)\n",
    "sep_classification_std_ent = sep_array_percent_ent.std(axis=1)\n",
    "print(sep_classification_acc_ent)\n",
    "print(sep_classification_std_ent)\n",
    "\n",
    "\n",
    "sep_added = [0, 250, 500, 750, 1000, 1250, 1500, 1750]\n",
    "sep_added = np.array(sep_added)*100/30000\n",
    "colors = ['r', 'm', 'g', 'b']\n",
    "i = 0\n",
    "# plt.errorbar(sep_added, ent_mean, yerr=ent_std, fmt=f'--{colors[0]}o', ecolor=f'{colors[i]}',\n",
    "#                  elinewidth=1.5, linewidth=1.5, markersize=5, capsize=5, barsabove=False, lolims=False, uplims=False,\n",
    "#                  xlolims=False, xuplims=False, errorevery=1, capthick=1, data=None, label=f'')\n",
    "plt.errorbar(sep_added, sep_classification_acc, yerr=sep_classification_std, fmt=f'--{colors[0]}o', ecolor=f'{colors[0]}',\n",
    "                 elinewidth=1.5, linewidth=1.5, markersize=5, capsize=5, barsabove=False, lolims=False, uplims=False,\n",
    "                 xlolims=False, xuplims=False, errorevery=1, capthick=1, data=None, label=f'')\n",
    "\n",
    "plt.errorbar(sep_added, sep_classification_acc_ent, yerr=sep_classification_std_ent, fmt=f'--{colors[1]}o', ecolor=f'{colors[1]}',\n",
    "                 elinewidth=1.5, linewidth=1.5, markersize=5, capsize=5, barsabove=False, lolims=False, uplims=False,\n",
    "                 xlolims=False, xuplims=False, errorevery=1, capthick=1, data=None, label=f'')\n",
    "\n",
    "fs = 18\n",
    "plt.grid(alpha=0.2)\n",
    "plt.xlabel('Separable States (%)', fontsize=fs)\n",
    "plt.ylabel('Correctly Classified (%)', fontsize=fs)\n",
    "# plt.legend()\n",
    "plt.xticks(fontsize=fs)\n",
    "plt.yticks(fontsize=fs)\n",
    "plt.subplots_adjust(bottom=0.2, left=0.2)\n",
    "\n",
    "# plt.savefig('classification_separable_MEMS.svg', dpi=600)\n",
    "# plt.savefig('classification_separable_MEMS.png', dpi=600)\n",
    "plt.show()\n"
   ],
   "metadata": {
    "collapsed": false,
    "pycharm": {
     "name": "#%%\n"
    }
   }
  }
 ],
 "metadata": {
  "kernelspec": {
   "display_name": "Python 3",
   "language": "python",
   "name": "python3"
  },
  "language_info": {
   "codemirror_mode": {
    "name": "ipython",
    "version": 2
   },
   "file_extension": ".py",
   "mimetype": "text/x-python",
   "name": "python",
   "nbconvert_exporter": "python",
   "pygments_lexer": "ipython2",
   "version": "2.7.6"
  }
 },
 "nbformat": 4,
 "nbformat_minor": 0
}