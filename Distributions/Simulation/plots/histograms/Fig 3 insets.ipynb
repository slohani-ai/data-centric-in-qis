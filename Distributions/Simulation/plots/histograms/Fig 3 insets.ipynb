{
 "cells": [
  {
   "cell_type": "code",
   "execution_count": 2,
   "metadata": {
    "collapsed": true
   },
   "outputs": [],
   "source": [
    "import sys\n",
    "sys.path.insert(0, '../../utils')\n",
    "import pandas as pd\n",
    "import Purity_Measure as pm\n",
    "import Concurrence_Measure as cm\n",
    "import matplotlib.pyplot as plt\n",
    "import numpy as np\n",
    "import tensorflow as tf"
   ]
  },
  {
   "cell_type": "code",
   "execution_count": 4,
   "outputs": [
    {
     "name": "stdout",
     "output_type": "stream",
     "text": [
      "Engineered\n",
      "tf.Tensor(0.6796140629180798, shape=(), dtype=float64)\n",
      "HS-Haar\n",
      "tf.Tensor(0.573237662176368, shape=(), dtype=float64)\n",
      "Z\n",
      "tf.Tensor(0.6796140629180798, shape=(), dtype=float64)\n",
      "Engineered\n",
      "HS-Haar\n",
      "Z\n"
     ]
    },
    {
     "data": {
      "text/plain": "<Figure size 432x288 with 1 Axes>",
      "image/png": "[encoded data removed]"
     },
     "metadata": {
      "needs_background": "light"
     },
     "output_type": "display_data"
    }
   ],
   "source": [
    "purity_list = []\n",
    "concurrence_list = []\n",
    "# alpha_values = ['HS-Haar', 0.8, 0.3, 0.1, 'Z']#np.round(np.arange(0.1, 1., 0.1), 2)\n",
    "alpha_values = ['Engineered', 'HS-Haar', 'Z']  # 0.8, 0.3, 0.1, 'Z']#np.round(np.arange(0.1, 1., 0.1), 2)\n",
    "for alpha in alpha_values:\n",
    "    print(alpha)\n",
    "    if alpha == 'HS-Haar':\n",
    "        tomo, tau, dm = pd.read_pickle('../../data/HS_Haar_tomo_tau_dm_30000_qs_2.pickle')\n",
    "    elif alpha == 'Z':\n",
    "        tomo, tau, dm = pd.read_pickle('../../data/Brian_tomo_tau_dm_50K_point_IBMQMIN.pickle')\n",
    "    elif alpha == 'Engineered':\n",
    "        con_list, pur_list = pd.read_pickle(f'../../brute_force_distro_gen/plots/con_list_pur_list_choice_k_fit.pickle')\n",
    "        purity_list.append(pur_list)\n",
    "        concurrence_list.append(con_list)\n",
    "    else:\n",
    "        tomo, tau, dm = pd.read_pickle(f'../../data/MA_tomo_tau_dm_30000_qs_2_alpha_{alpha}.pickle')\n",
    "    try:\n",
    "        purity = pm.purity(dm)\n",
    "        purity_list.append(purity)\n",
    "        conc = cm.concurrence(dm)\n",
    "        concurrence_list.append(conc)\n",
    "        mean_purity = tf.math.reduce_mean(purity)\n",
    "        print(mean_purity)\n",
    "    except:\n",
    "        pass\n",
    "\n",
    "tomo_test, dm_test, dm_mle = pd.read_pickle(f'../../../IBMQ/test_data/testdata_qubit_size_2.pkl')\n",
    "con = cm.concurrence(dm_mle)\n",
    "purity = pm.purity(dm_mle)\n",
    "purity = purity\n",
    "# print (purity)\n",
    "\n",
    "fs = 14\n",
    "# print(purity_list)\n",
    "# colors = ['b', 'c', 'm', 'y', 'orange']\n",
    "colors = ['brown', 'b', 'orange']\n",
    "for i in range(len(alpha_values)):\n",
    "    print(alpha_values[i])\n",
    "    if alpha_values[i] == 'Engineered':\n",
    "        plt.hist(purity_list[i][2], 20, density=True, histtype='step', alpha=1,\n",
    "                 color=colors[i])  #, label=f'{alpha_values[i]}')\n",
    "    elif alpha_values[i] == 'HS-Haar':\n",
    "        plt.hist(purity_list[i], 20, density=True, histtype='step', alpha=1,\n",
    "                 color=colors[i])  #, label=f'{alpha_values[i]}')\n",
    "    elif alpha_values[i] == 'Z':\n",
    "        plt.hist(purity_list[i], 20, density=True, histtype='step', alpha=1,\n",
    "                 color=colors[i])  #, label=f'{alpha_values[i]}')\n",
    "    else:\n",
    "        print('not found')\n",
    "\n",
    "    # else:\n",
    "    #     plt.hist(purity_list[i], 20, density=True, histtype='step', alpha=1, color=colors[i], label=fr'$\\alpha$={alpha_values[i]}')\n",
    "plt.hist(purity, 20, density=True, color='g', alpha=.5, label='IBM Q')\n",
    "plt.xlabel('Purity', fontsize=fs)\n",
    "plt.xticks(fontsize=fs)\n",
    "plt.yticks(fontsize=fs)\n",
    "plt.ylabel('Density \\n [arb. units]', fontsize=fs)\n",
    "plt.axis([0.25, 1.02, 0, 16])\n",
    "plt.legend(fontsize='small')\n",
    "# plt.grid(alpha=0.2)\n",
    "plt.subplots_adjust(bottom=0.6, left=0.6)\n",
    "# plt.savefig('histo_alpha_purity.svg', dpi=600)\n",
    "# plt.savefig('histo_alpha.png', dpi=600)\n",
    "plt.show()"
   ],
   "metadata": {
    "collapsed": false,
    "pycharm": {
     "name": "#%%\n"
    }
   }
  },
  {
   "cell_type": "code",
   "execution_count": 5,
   "outputs": [
    {
     "name": "stdout",
     "output_type": "stream",
     "text": [
      "Engineered\n",
      "HS-Haar\n",
      "Z\n"
     ]
    },
    {
     "data": {
      "text/plain": "<Figure size 432x288 with 1 Axes>",
      "image/png": "[encoded data removed]"
     },
     "metadata": {
      "needs_background": "light"
     },
     "output_type": "display_data"
    }
   ],
   "source": [
    "for i in range(len(alpha_values)):\n",
    "    print(alpha_values[i])\n",
    "    if alpha_values[i] == 'Engineered':\n",
    "        plt.hist(concurrence_list[i][2], 20, density=True, histtype='step', alpha=1,\n",
    "                 color=colors[i])  #, label=f'{alpha_values[i]}')\n",
    "    elif alpha_values[i] == 'HS-Haar':\n",
    "        plt.hist(concurrence_list[i], 20, density=True, histtype='step', alpha=1,\n",
    "                 color=colors[i])  #, label=f'{alpha_values[i]}')\n",
    "    elif alpha_values[i] == 'Z':\n",
    "        plt.hist(concurrence_list[i], 20, density=True, histtype='step', alpha=1,\n",
    "                 color=colors[i])  #, label=f'{alpha_values[i]}')\n",
    "    else:\n",
    "        print('not found')\n",
    "\n",
    "    # else:\n",
    "    #     plt.hist(purity_list[i], 20, density=True, histtype='step', alpha=1, color=colors[i], label=fr'$\\alpha$={alpha_values[i]}')\n",
    "plt.hist(con, 20, density=True, color='g', alpha=.5, label='IBM Q')\n",
    "plt.xlabel('Concurrence', fontsize=fs)\n",
    "plt.xticks(fontsize=fs)\n",
    "plt.yticks(fontsize=fs)\n",
    "plt.ylabel('Density \\n [arb. units]', fontsize=fs)\n",
    "plt.axis([-0.05, 1., 0, 7])\n",
    "plt.legend(fontsize='small')\n",
    "# plt.grid(alpha=0.2)\n",
    "plt.subplots_adjust(bottom=0.6, left=0.6)\n",
    "# plt.savefig('histo_alpha_conc.svg', dpi=600)\n",
    "# plt.savefig('histo_alpha.png', dpi=600)\n",
    "plt.show()"
   ],
   "metadata": {
    "collapsed": false,
    "pycharm": {
     "name": "#%%\n"
    }
   }
  }
 ],
 "metadata": {
  "kernelspec": {
   "display_name": "Python 3",
   "language": "python",
   "name": "python3"
  },
  "language_info": {
   "codemirror_mode": {
    "name": "ipython",
    "version": 2
   },
   "file_extension": ".py",
   "mimetype": "text/x-python",
   "name": "python",
   "nbconvert_exporter": "python",
   "pygments_lexer": "ipython2",
   "version": "2.7.6"
  }
 },
 "nbformat": 4,
 "nbformat_minor": 0
}