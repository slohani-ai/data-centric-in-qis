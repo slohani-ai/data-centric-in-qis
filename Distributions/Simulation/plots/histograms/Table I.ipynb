{
 "cells": [
  {
   "cell_type": "code",
   "execution_count": 2,
   "metadata": {
    "collapsed": true
   },
   "outputs": [],
   "source": [
    "import sys\n",
    "sys.path.insert(0, '../../utils')\n",
    "import pandas as pd\n",
    "import Purity_Measure as pm\n",
    "import Concurrence_Measure as cm\n",
    "import matplotlib.pyplot as plt\n",
    "import numpy as np\n",
    "import tensorflow as tf"
   ]
  },
  {
   "cell_type": "code",
   "execution_count": 4,
   "outputs": [
    {
     "name": "stdout",
     "output_type": "stream",
     "text": [
      "alpha:  HS-Haar\n",
      "mean purity tf.Tensor(0.573237662176368, shape=(), dtype=float64)\n",
      "P_min 0.28763208665250606\n",
      "P_max 0.9998878298924636\n",
      "C_min 0.0\n",
      "C_max 0.9774558377743765\n",
      "alpha:  Z\n",
      "mean purity tf.Tensor(0.6796140629180798, shape=(), dtype=float64)\n",
      "P_min 0.2516397180900519\n",
      "P_max 0.9999999085671667\n",
      "C_min 0.0\n",
      "C_max 0.9989877248544085\n",
      "(30000, 4, 4)\n",
      "alpha:  0.3394171312620001_k_params_6_no_truncation\n",
      "mean purity tf.Tensor(0.5808975802782075, shape=(), dtype=float64)\n",
      "P_min 0.2985229712316707\n",
      "P_max 0.9975327260611783\n",
      "C_min 0.0\n",
      "C_max 0.956996509017879\n",
      "alpha:  HS\n",
      "mean purity tf.Tensor(0.4711616469064556, shape=(), dtype=float64)\n",
      "P_min 0.3028877522318333\n",
      "P_max 0.8467710641607942\n",
      "C_min 0.0\n",
      "C_max 0.6770495578923589\n",
      "alpha:  Bures\n",
      "mean purity tf.Tensor(0.5623264441960999, shape=(), dtype=float64)\n",
      "P_min 0.299791214528441\n",
      "P_max 0.956857630380767\n",
      "C_min 0.0\n",
      "C_max 0.9011874727893497\n",
      "alpha:  Engineered\n",
      "mean purity 0.7725246201826561\n",
      "P_min 0.6760832618093636\n",
      "P_max 0.9601424209538048\n",
      "C_min 9.477798696588824e-06\n",
      "C_max 0.857203085428421\n",
      "alpha:  Engineered\n",
      "mean purity tf.Tensor(0.5623264441960999, shape=(), dtype=float64)\n",
      "P_min 0.299791214528441\n",
      "P_max 0.956857630380767\n",
      "C_min 0.0\n",
      "C_max 0.9011874727893497\n",
      "alpha:  HS-Haar\n",
      "mean purity tf.Tensor(0.573237662176368, shape=(), dtype=float64)\n",
      "P_min 0.28763208665250606\n",
      "P_max 0.9998878298924636\n",
      "C_min 0.0\n",
      "C_max 0.9774558377743765\n",
      "alpha:  Z\n",
      "mean purity tf.Tensor(0.6796140629180798, shape=(), dtype=float64)\n",
      "P_min 0.2516397180900519\n",
      "P_max 0.9999999085671667\n",
      "C_min 0.0\n",
      "C_max 0.9989877248544085\n",
      "(30000, 4, 4)\n",
      "alpha:  0.3394171312620001_k_params_6_no_truncation\n",
      "mean purity tf.Tensor(0.5808975802782075, shape=(), dtype=float64)\n",
      "P_min 0.2985229712316707\n",
      "P_max 0.9975327260611783\n",
      "C_min 0.0\n",
      "C_max 0.956996509017879\n",
      "alpha:  HS\n",
      "mean purity tf.Tensor(0.4711616469064556, shape=(), dtype=float64)\n",
      "P_min 0.3028877522318333\n",
      "P_max 0.8467710641607942\n",
      "C_min 0.0\n",
      "C_max 0.6770495578923589\n",
      "alpha:  Bures\n",
      "mean purity tf.Tensor(0.5623264441960999, shape=(), dtype=float64)\n",
      "P_min 0.299791214528441\n",
      "P_max 0.956857630380767\n",
      "C_min 0.0\n",
      "C_max 0.9011874727893497\n"
     ]
    }
   ],
   "source": [
    "purity_list = []\n",
    "concurrence_list = []\n",
    "# alpha_values = ['HS-Haar', 0.8, 0.3, 0.1, 'Z']#np.round(np.arange(0.1, 1., 0.1), 2)\n",
    "# alpha_values = ['Engineered', 'HS-Haar', 'Z', 0.8, 0.3, 0.1, 0.01, 'HS', 'Bures'] #np.round(np.arange(0.1, 1., 0.1), 2)\n",
    "# alpha_values = ['HS_Haar', 'Bures', 'Z_IBMQMIN', '0.3394171312620001_k_params_6_filtered', '0.3394171312620001_k_params_6_no_truncation']\n",
    "alpha_values = ['Engineered', 'HS-Haar', 'Z', '0.3394171312620001_k_params_6_no_truncation', 'HS', 'Bures']\n",
    "for alpha in alpha_values:\n",
    "    # print(alpha)\n",
    "    if alpha == 'HS-Haar':\n",
    "        tomo, tau, dm = pd.read_pickle('../../data/HS_Haar_tomo_tau_dm_30000_qs_2.pickle')\n",
    "    elif alpha == 'Z':\n",
    "        tomo, tau, dm = pd.read_pickle('../../data/Brian_tomo_tau_dm_50K_point_IBMQMIN.pickle')\n",
    "    elif alpha == 'Engineered':\n",
    "        con_list, pur_list = pd.read_pickle(f'../../brute_force_distro_gen/plots/con_list_pur_list_choice_k_fit.pickle')\n",
    "\n",
    "        purity_list.append(pur_list)\n",
    "        concurrence_list.append(con_list)\n",
    "        pur_list = np.array(pur_list[2])\n",
    "        con_list = np.array(con_list[2])\n",
    "        print('alpha: ', alpha)\n",
    "        print('mean purity', pur_list.mean())\n",
    "        print('P_min', pur_list.min())\n",
    "        print('P_max', pur_list.max())\n",
    "        print('C_min', con_list.min())\n",
    "        print('C_max', con_list.max())\n",
    "    elif alpha == 'HS':\n",
    "        tomo, tau, dm = pd.read_pickle('../../data/HS_tomo_tau_dm_30000_qs_2.pickle')\n",
    "    elif alpha == 'Bures':\n",
    "        tomo, tau, dm = pd.read_pickle('../../data/Bures_tomo_tau_dm_30000_qs_2.pickle')\n",
    "    else:\n",
    "        # tomo, tau, dm = pd.read_pickle(f'../../data/MA_tomo_tau_dm_30000_qs_2_alpha_{alpha}.pickle')\n",
    "        tomo, tau, dm = pd.read_pickle(f'../../data/Pool_MA_tomo_tau_dm_30000_qs_2_asymmetric_alpha_{alpha}.pickle')\n",
    "\n",
    "        print(dm.shape)\n",
    "    try:\n",
    "        purity = pm.purity(dm)\n",
    "        purity_list.append(purity)\n",
    "        conc = cm.concurrence(dm)\n",
    "        concurrence_list.append(conc)\n",
    "        mean_purity = tf.math.reduce_mean(purity)\n",
    "        print('alpha: ', alpha)\n",
    "        print('mean purity', mean_purity)\n",
    "        print('P_min', purity.min())\n",
    "        print('P_max', purity.max())\n",
    "        print('C_min', conc.min())\n",
    "        print('C_max', conc.max())\n",
    "    except:\n",
    "        pass"
   ],
   "metadata": {
    "collapsed": false,
    "pycharm": {
     "name": "#%%\n"
    }
   }
  },
  {
   "cell_type": "code",
   "execution_count": 5,
   "outputs": [
    {
     "name": "stdout",
     "output_type": "stream",
     "text": [
      "Engineered\n"
     ]
    },
    {
     "data": {
      "text/plain": "<Figure size 432x288 with 1 Axes>",
      "image/png": "[encoded data removed]"
     },
     "metadata": {
      "needs_background": "light"
     },
     "output_type": "display_data"
    },
    {
     "name": "stdout",
     "output_type": "stream",
     "text": [
      "HS-Haar\n"
     ]
    },
    {
     "data": {
      "text/plain": "<Figure size 432x288 with 1 Axes>",
      "image/png": "[encoded data removed]"
     },
     "metadata": {
      "needs_background": "light"
     },
     "output_type": "display_data"
    },
    {
     "name": "stdout",
     "output_type": "stream",
     "text": [
      "Z\n"
     ]
    },
    {
     "data": {
      "text/plain": "<Figure size 432x288 with 1 Axes>",
      "image/png": "[encoded data removed]"
     },
     "metadata": {
      "needs_background": "light"
     },
     "output_type": "display_data"
    },
    {
     "name": "stdout",
     "output_type": "stream",
     "text": [
      "0.3394171312620001_k_params_6_no_truncation\n"
     ]
    },
    {
     "data": {
      "text/plain": "<Figure size 432x288 with 1 Axes>",
      "image/png": "[encoded data removed]"
     },
     "metadata": {
      "needs_background": "light"
     },
     "output_type": "display_data"
    },
    {
     "name": "stdout",
     "output_type": "stream",
     "text": [
      "HS\n"
     ]
    },
    {
     "data": {
      "text/plain": "<Figure size 432x288 with 1 Axes>",
      "image/png": "[encoded data removed]"
     },
     "metadata": {
      "needs_background": "light"
     },
     "output_type": "display_data"
    },
    {
     "name": "stdout",
     "output_type": "stream",
     "text": [
      "Bures\n"
     ]
    },
    {
     "data": {
      "text/plain": "<Figure size 432x288 with 1 Axes>",
      "image/png": "[encoded data removed]"
     },
     "metadata": {
      "needs_background": "light"
     },
     "output_type": "display_data"
    }
   ],
   "source": [
    "tomo_test, dm_test, dm_mle = pd.read_pickle(f'../../../IBMQ/test_data/testdata_qubit_size_2.pkl')\n",
    "con = cm.concurrence(dm_mle)\n",
    "purity = pm.purity(dm_mle)\n",
    "purity = purity\n",
    "# print (purity)\n",
    "\n",
    "fs = 14\n",
    "# print(purity_list)\n",
    "# colors = ['b', 'c', 'm', 'y', 'orange'] ['Engineered', 'HS-Haar', 'Z', '0.3394171312620001_k_params_6_no_truncation', 'HS', 'Bures']\n",
    "colors = ['tab:brown','b', 'tab:orange','c', 'r', 'k', 'm', 'r', 'k']\n",
    "for i in range(len(alpha_values)):\n",
    "    print (alpha_values[i])\n",
    "    if alpha_values[i] == 'Engineered':\n",
    "        plt.hist(purity_list[i][2], 20, density=True, histtype='step', alpha=1, color=colors[i])#, label=f'{alpha_values[i]}')\n",
    "    if alpha_values[i] == 'HS-Haar':\n",
    "        plt.hist(purity_list[i], 20, density=True, histtype='step', alpha=1, color=colors[i])#, label=f'{alpha_values[i]}')\n",
    "    if alpha_values[i] == 'Z':\n",
    "        plt.hist(purity_list[i], 20, density=True, histtype='step', alpha=1, color=colors[i])#, label=f'{alpha_values[i]}')\n",
    "    try:\n",
    "        if alpha_values[i] < 1.0:\n",
    "            plt.hist(purity_list[i], 20, density=True, histtype='step', alpha=1,\n",
    "                     color=colors[i])  # , label=f'{alpha_values[i]}')\n",
    "    except:\n",
    "        pass\n",
    "    if alpha_values[i] == 'HS':\n",
    "        plt.hist(purity_list[i], 20, density=True, histtype='step', alpha=1,\n",
    "                 color=colors[i])  # , label=f'{alpha_values[i]}')\n",
    "    if alpha_values[i] == 'Bures':\n",
    "        plt.hist(purity_list[i], 20, density=True, histtype='step', alpha=1,\n",
    "                 color=colors[i])  # , label=f'{alpha_values[i]}')\n",
    "\n",
    "    if alpha_values[i] == '0.3394171312620001_k_params_6_no_truncation':\n",
    "        plt.hist(purity_list[i], 20, density=True, histtype='step', alpha=1,\n",
    "                 color=colors[i])  # , label=f'{alpha_values[i]}')\n",
    "\n",
    "    # else:\n",
    "    #     plt.hist(purity_list[i], 20, density=True, histtype='step', alpha=1, color=colors[i], label='MA')\n",
    "    plt.hist(purity, 20, density=True, color='g', alpha=.3) #, label='IBM Q')\n",
    "    plt.xlabel('Purity', fontsize=fs)\n",
    "    plt.xticks(np.arange(0.25, 1.1, 0.25), fontsize=fs, rotation=25)\n",
    "    plt.yticks(fontsize=fs)\n",
    "    plt.ylabel('Density \\n [arb. units]', fontsize=fs)\n",
    "    plt.xlim([0.245, 1.05])\n",
    "    # plt.axis([0.25, 1.02, 0, 16])\n",
    "    # plt.legend(fontsize='small')\n",
    "    # plt.grid(alpha=0.2)\n",
    "    plt.subplots_adjust(bottom=0.6, left=0.6)\n",
    "    # plt.savefig(f'histo_alpha_{alpha_values[i]}_purity.svg', dpi=600)\n",
    "    # plt.savefig('histo_alpha.png', dpi=600)\n",
    "    plt.show()"
   ],
   "metadata": {
    "collapsed": false,
    "pycharm": {
     "name": "#%%\n"
    }
   }
  }
 ],
 "metadata": {
  "kernelspec": {
   "display_name": "Python 3",
   "language": "python",
   "name": "python3"
  },
  "language_info": {
   "codemirror_mode": {
    "name": "ipython",
    "version": 2
   },
   "file_extension": ".py",
   "mimetype": "text/x-python",
   "name": "python",
   "nbconvert_exporter": "python",
   "pygments_lexer": "ipython2",
   "version": "2.7.6"
  }
 },
 "nbformat": 4,
 "nbformat_minor": 0
}