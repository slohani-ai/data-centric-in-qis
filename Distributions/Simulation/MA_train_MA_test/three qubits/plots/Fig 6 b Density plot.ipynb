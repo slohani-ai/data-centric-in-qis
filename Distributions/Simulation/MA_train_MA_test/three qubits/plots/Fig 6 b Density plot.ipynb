{
 "cells": [
  {
   "cell_type": "code",
   "execution_count": 2,
   "metadata": {
    "collapsed": true
   },
   "outputs": [
    {
     "name": "stdout",
     "output_type": "stream",
     "text": [
      "0.30806208304714844\n"
     ]
    },
    {
     "data": {
      "text/plain": "<Figure size 432x288 with 1 Axes>",
      "image/png": "[encoded data removed]"
     },
     "metadata": {
      "needs_background": "light"
     },
     "output_type": "display_data"
    }
   ],
   "source": [
    "import sys\n",
    "sys.path.insert(0, '../utils')\n",
    "import pandas as pd\n",
    "import numpy as np\n",
    "from mpl_toolkits import mplot3d\n",
    "\n",
    "import matplotlib.pyplot as plt\n",
    "import Fidelity_Measure as fm\n",
    "import Purity_Measure as pm\n",
    "import Concurrence_Measure as cm\n",
    "import os\n",
    "\n",
    "\n",
    "tomo_MA, tau_MA, dm_MA = pd.read_pickle('../data/MA_tomo_tau_dm_5000_qs_3_alpha_TEST_0.03.pickle')\n",
    "# con_test_MA = cm.concurrence(dm_MA)\n",
    "pur_test_MA = pm.purity(dm_MA)\n",
    "\n",
    "print(np.min(pur_test_MA))\n",
    "_ = plt.hist(pur_test_MA, 20, histtype='stepfilled', density=True, color='b', alpha=0.5)\n",
    "\n",
    "fs = 14\n",
    "# plt.xlabel('Purity (Targets)', fontsize=fs)\n",
    "plt.xticks(np.arange(0.3, 1.1,0.1), [])\n",
    "plt.yticks(fontsize=fs)\n",
    "plt.ylabel('Density', fontsize=fs)\n",
    "plt.axis([0.3, 1.0, 0, 20])\n",
    "plt.subplots_adjust(bottom=0.6, left=0.15)\n",
    "plt.savefig('hist_MA_pur.svg', dpi=600)\n",
    "plt.show()\n"
   ]
  }
 ],
 "metadata": {
  "kernelspec": {
   "display_name": "Python 3",
   "language": "python",
   "name": "python3"
  },
  "language_info": {
   "codemirror_mode": {
    "name": "ipython",
    "version": 2
   },
   "file_extension": ".py",
   "mimetype": "text/x-python",
   "name": "python",
   "nbconvert_exporter": "python",
   "pygments_lexer": "ipython2",
   "version": "2.7.6"
  }
 },
 "nbformat": 4,
 "nbformat_minor": 0
}