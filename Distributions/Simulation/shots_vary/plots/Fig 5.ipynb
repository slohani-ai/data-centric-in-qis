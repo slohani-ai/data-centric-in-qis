{
 "cells": [
  {
   "cell_type": "code",
   "execution_count": 1,
   "metadata": {
    "collapsed": true,
    "pycharm": {
     "name": "#%%\n"
    }
   },
   "outputs": [],
   "source": [
    "import pandas as pd\n",
    "import numpy as np\n",
    "import matplotlib.pyplot as plt"
   ]
  },
  {
   "cell_type": "code",
   "execution_count": 4,
   "outputs": [
    {
     "name": "stdout",
     "output_type": "stream",
     "text": [
      "128\n",
      "256\n",
      "512\n",
      "1024\n",
      "2048\n",
      "4096\n",
      "8192\n"
     ]
    }
   ],
   "source": [
    "fid_nn_list = []\n",
    "fid_nn_mean_list = []\n",
    "\n",
    "\n",
    "fid_nn_list_low = []\n",
    "fid_nn_mean_list_low = []\n",
    "\n",
    "fid_mle_list = []\n",
    "fid_mle_mean_list = []\n",
    "n_shots = [128, 256, 512, 1024, 2048, 4096, 8192] #, 4096]\n",
    "for shots in  n_shots:\n",
    "    print(shots)\n",
    "    fm_list, fm_av, model_dms, params_list = pd.read_pickle(\n",
    "        # f'../low_shots_training/test_prediction_results_data_driven/fidelity_list_fid_av_pred_dm_params_alpha_0.3394171312620001_test_shots_{shots}_train_with_shots_ideal.pickle')\n",
    "        f'../low_shots_training/test_prediction_results_data_driven/fidelity_list_fid_av_pred_dm_params_alpha_0.3394171312620001_test_shots_{shots}_train_with_shots_ideal_LAST.pickle')\n",
    "    mle_fids_list, mle_av, dm_target, dm_fitted = pd.read_pickle(\n",
    "        f'../../mle_outputs/convoluted_mle_fids_list_fids_mean_shots_{shots}_n_size_500.pickle')\n",
    "\n",
    "    fm_list_low, fm_av_low, model_dms_low, params_list_low = pd.read_pickle(\n",
    "        # f'../low_shots_training/test_prediction_results_data_driven/fidelity_list_fid_av_pred_dm_params_alpha_Eng_test_shots_{shots}_train_with_shots_{shots}.pickle')\n",
    "        f'../low_shots_training/test_prediction_results_data_driven/fidelity_list_fid_av_pred_dm_params_alpha_Eng_test_shots_{shots}_train_with_shots_{shots}_LAST.pickle')\n",
    "    # if shots == 1024:\n",
    "    #     fid_nn_list.append(fm_list[0][-1])\n",
    "    # else:\n",
    "    fid_nn_list.append(fm_list)\n",
    "    fid_nn_mean_list.append(fm_av)\n",
    "\n",
    "    fid_nn_list_low.append(fm_list_low)\n",
    "    fid_nn_mean_list_low.append(fm_av_low)\n",
    "\n",
    "    fid_mle_list.append(mle_fids_list)\n",
    "    fid_mle_mean_list.append(mle_av)\n",
    "\n",
    "fid_ideal = np.squeeze(fid_nn_list).tolist()\n",
    "fid_ideal_m = np.squeeze(fid_nn_list).mean(axis=1)\n",
    "fid_shots = np.squeeze(fid_nn_list_low).tolist()\n",
    "fid_shots_m = np.squeeze(fid_nn_list_low).mean(axis=1)\n",
    "fid_mle = np.squeeze(fid_mle_list)[:,:400].tolist()\n",
    "fid_mle_m = np.squeeze(fid_mle_list)[:,:400].mean(axis=1)"
   ],
   "metadata": {
    "collapsed": false,
    "pycharm": {
     "name": "#%%\n"
    }
   }
  },
  {
   "cell_type": "code",
   "execution_count": 5,
   "outputs": [
    {
     "ename": "ValueError",
     "evalue": "x and y must have same first dimension, but have shapes (7,) and (1,)",
     "output_type": "error",
     "traceback": [
      "\u001B[0;31m---------------------------------------------------------------------------\u001B[0m",
      "\u001B[0;31mValueError\u001B[0m                                Traceback (most recent call last)",
      "\u001B[0;32m/tmp/ipykernel_25777/1135669365.py\u001B[0m in \u001B[0;36m<module>\u001B[0;34m\u001B[0m\n\u001B[1;32m     55\u001B[0m \u001B[0;34m\u001B[0m\u001B[0m\n\u001B[1;32m     56\u001B[0m \u001B[0mplt\u001B[0m\u001B[0;34m.\u001B[0m\u001B[0mplot\u001B[0m\u001B[0;34m(\u001B[0m\u001B[0mnp\u001B[0m\u001B[0;34m.\u001B[0m\u001B[0marange\u001B[0m\u001B[0;34m(\u001B[0m\u001B[0;36m0\u001B[0m\u001B[0;34m,\u001B[0m \u001B[0mlen\u001B[0m\u001B[0;34m(\u001B[0m\u001B[0mn_shots\u001B[0m\u001B[0;34m)\u001B[0m \u001B[0;34m*\u001B[0m \u001B[0;36m2\u001B[0m\u001B[0;34m,\u001B[0m \u001B[0;36m2\u001B[0m\u001B[0;34m)\u001B[0m \u001B[0;34m-\u001B[0m \u001B[0;36m0.15\u001B[0m\u001B[0;34m,\u001B[0m \u001B[0mfid_ideal_m\u001B[0m\u001B[0;34m,\u001B[0m \u001B[0;34m'r--'\u001B[0m\u001B[0;34m,\u001B[0m \u001B[0mlabel\u001B[0m\u001B[0;34m=\u001B[0m\u001B[0;34m'Pre-trained (ideal)'\u001B[0m\u001B[0;34m)\u001B[0m\u001B[0;34m\u001B[0m\u001B[0;34m\u001B[0m\u001B[0m\n\u001B[0;32m---> 57\u001B[0;31m \u001B[0mplt\u001B[0m\u001B[0;34m.\u001B[0m\u001B[0mplot\u001B[0m\u001B[0;34m(\u001B[0m\u001B[0mnp\u001B[0m\u001B[0;34m.\u001B[0m\u001B[0marange\u001B[0m\u001B[0;34m(\u001B[0m\u001B[0;36m0\u001B[0m\u001B[0;34m,\u001B[0m \u001B[0mlen\u001B[0m\u001B[0;34m(\u001B[0m\u001B[0mn_shots\u001B[0m\u001B[0;34m)\u001B[0m \u001B[0;34m*\u001B[0m \u001B[0;36m2\u001B[0m\u001B[0;34m,\u001B[0m \u001B[0;36m2\u001B[0m\u001B[0;34m)\u001B[0m\u001B[0;34m,\u001B[0m\u001B[0;34m+\u001B[0m \u001B[0;36m0.15\u001B[0m\u001B[0;34m,\u001B[0m \u001B[0mfid_shots_m\u001B[0m\u001B[0;34m,\u001B[0m \u001B[0;34m'b--'\u001B[0m\u001B[0;34m,\u001B[0m \u001B[0mlabel\u001B[0m\u001B[0;34m=\u001B[0m\u001B[0;34m'Pre-trained (given shots)'\u001B[0m\u001B[0;34m)\u001B[0m\u001B[0;34m\u001B[0m\u001B[0;34m\u001B[0m\u001B[0m\n\u001B[0m\u001B[1;32m     58\u001B[0m \u001B[0;31m# plt.plot(np.arange(0, len(n_shots) * 2, 2) + 0.3, fid_mle_m, 'g--', label='MLE')\u001B[0m\u001B[0;34m\u001B[0m\u001B[0;34m\u001B[0m\u001B[0;34m\u001B[0m\u001B[0m\n\u001B[1;32m     59\u001B[0m \u001B[0;34m\u001B[0m\u001B[0m\n",
      "\u001B[0;32m~/packages/anaconda3/envs/tf_env/lib/python3.8/site-packages/matplotlib/pyplot.py\u001B[0m in \u001B[0;36mplot\u001B[0;34m(scalex, scaley, data, *args, **kwargs)\u001B[0m\n\u001B[1;32m   3017\u001B[0m \u001B[0;34m@\u001B[0m\u001B[0m_copy_docstring_and_deprecators\u001B[0m\u001B[0;34m(\u001B[0m\u001B[0mAxes\u001B[0m\u001B[0;34m.\u001B[0m\u001B[0mplot\u001B[0m\u001B[0;34m)\u001B[0m\u001B[0;34m\u001B[0m\u001B[0;34m\u001B[0m\u001B[0m\n\u001B[1;32m   3018\u001B[0m \u001B[0;32mdef\u001B[0m \u001B[0mplot\u001B[0m\u001B[0;34m(\u001B[0m\u001B[0;34m*\u001B[0m\u001B[0margs\u001B[0m\u001B[0;34m,\u001B[0m \u001B[0mscalex\u001B[0m\u001B[0;34m=\u001B[0m\u001B[0;32mTrue\u001B[0m\u001B[0;34m,\u001B[0m \u001B[0mscaley\u001B[0m\u001B[0;34m=\u001B[0m\u001B[0;32mTrue\u001B[0m\u001B[0;34m,\u001B[0m \u001B[0mdata\u001B[0m\u001B[0;34m=\u001B[0m\u001B[0;32mNone\u001B[0m\u001B[0;34m,\u001B[0m \u001B[0;34m**\u001B[0m\u001B[0mkwargs\u001B[0m\u001B[0;34m)\u001B[0m\u001B[0;34m:\u001B[0m\u001B[0;34m\u001B[0m\u001B[0;34m\u001B[0m\u001B[0m\n\u001B[0;32m-> 3019\u001B[0;31m     return gca().plot(\n\u001B[0m\u001B[1;32m   3020\u001B[0m         \u001B[0;34m*\u001B[0m\u001B[0margs\u001B[0m\u001B[0;34m,\u001B[0m \u001B[0mscalex\u001B[0m\u001B[0;34m=\u001B[0m\u001B[0mscalex\u001B[0m\u001B[0;34m,\u001B[0m \u001B[0mscaley\u001B[0m\u001B[0;34m=\u001B[0m\u001B[0mscaley\u001B[0m\u001B[0;34m,\u001B[0m\u001B[0;34m\u001B[0m\u001B[0;34m\u001B[0m\u001B[0m\n\u001B[1;32m   3021\u001B[0m         **({\"data\": data} if data is not None else {}), **kwargs)\n",
      "\u001B[0;32m~/packages/anaconda3/envs/tf_env/lib/python3.8/site-packages/matplotlib/axes/_axes.py\u001B[0m in \u001B[0;36mplot\u001B[0;34m(self, scalex, scaley, data, *args, **kwargs)\u001B[0m\n\u001B[1;32m   1603\u001B[0m         \"\"\"\n\u001B[1;32m   1604\u001B[0m         \u001B[0mkwargs\u001B[0m \u001B[0;34m=\u001B[0m \u001B[0mcbook\u001B[0m\u001B[0;34m.\u001B[0m\u001B[0mnormalize_kwargs\u001B[0m\u001B[0;34m(\u001B[0m\u001B[0mkwargs\u001B[0m\u001B[0;34m,\u001B[0m \u001B[0mmlines\u001B[0m\u001B[0;34m.\u001B[0m\u001B[0mLine2D\u001B[0m\u001B[0;34m)\u001B[0m\u001B[0;34m\u001B[0m\u001B[0;34m\u001B[0m\u001B[0m\n\u001B[0;32m-> 1605\u001B[0;31m         \u001B[0mlines\u001B[0m \u001B[0;34m=\u001B[0m \u001B[0;34m[\u001B[0m\u001B[0;34m*\u001B[0m\u001B[0mself\u001B[0m\u001B[0;34m.\u001B[0m\u001B[0m_get_lines\u001B[0m\u001B[0;34m(\u001B[0m\u001B[0;34m*\u001B[0m\u001B[0margs\u001B[0m\u001B[0;34m,\u001B[0m \u001B[0mdata\u001B[0m\u001B[0;34m=\u001B[0m\u001B[0mdata\u001B[0m\u001B[0;34m,\u001B[0m \u001B[0;34m**\u001B[0m\u001B[0mkwargs\u001B[0m\u001B[0;34m)\u001B[0m\u001B[0;34m]\u001B[0m\u001B[0;34m\u001B[0m\u001B[0;34m\u001B[0m\u001B[0m\n\u001B[0m\u001B[1;32m   1606\u001B[0m         \u001B[0;32mfor\u001B[0m \u001B[0mline\u001B[0m \u001B[0;32min\u001B[0m \u001B[0mlines\u001B[0m\u001B[0;34m:\u001B[0m\u001B[0;34m\u001B[0m\u001B[0;34m\u001B[0m\u001B[0m\n\u001B[1;32m   1607\u001B[0m             \u001B[0mself\u001B[0m\u001B[0;34m.\u001B[0m\u001B[0madd_line\u001B[0m\u001B[0;34m(\u001B[0m\u001B[0mline\u001B[0m\u001B[0;34m)\u001B[0m\u001B[0;34m\u001B[0m\u001B[0;34m\u001B[0m\u001B[0m\n",
      "\u001B[0;32m~/packages/anaconda3/envs/tf_env/lib/python3.8/site-packages/matplotlib/axes/_base.py\u001B[0m in \u001B[0;36m__call__\u001B[0;34m(self, data, *args, **kwargs)\u001B[0m\n\u001B[1;32m    313\u001B[0m                 \u001B[0mthis\u001B[0m \u001B[0;34m+=\u001B[0m \u001B[0margs\u001B[0m\u001B[0;34m[\u001B[0m\u001B[0;36m0\u001B[0m\u001B[0;34m]\u001B[0m\u001B[0;34m,\u001B[0m\u001B[0;34m\u001B[0m\u001B[0;34m\u001B[0m\u001B[0m\n\u001B[1;32m    314\u001B[0m                 \u001B[0margs\u001B[0m \u001B[0;34m=\u001B[0m \u001B[0margs\u001B[0m\u001B[0;34m[\u001B[0m\u001B[0;36m1\u001B[0m\u001B[0;34m:\u001B[0m\u001B[0;34m]\u001B[0m\u001B[0;34m\u001B[0m\u001B[0;34m\u001B[0m\u001B[0m\n\u001B[0;32m--> 315\u001B[0;31m             \u001B[0;32myield\u001B[0m \u001B[0;32mfrom\u001B[0m \u001B[0mself\u001B[0m\u001B[0;34m.\u001B[0m\u001B[0m_plot_args\u001B[0m\u001B[0;34m(\u001B[0m\u001B[0mthis\u001B[0m\u001B[0;34m,\u001B[0m \u001B[0mkwargs\u001B[0m\u001B[0;34m)\u001B[0m\u001B[0;34m\u001B[0m\u001B[0;34m\u001B[0m\u001B[0m\n\u001B[0m\u001B[1;32m    316\u001B[0m \u001B[0;34m\u001B[0m\u001B[0m\n\u001B[1;32m    317\u001B[0m     \u001B[0;32mdef\u001B[0m \u001B[0mget_next_color\u001B[0m\u001B[0;34m(\u001B[0m\u001B[0mself\u001B[0m\u001B[0;34m)\u001B[0m\u001B[0;34m:\u001B[0m\u001B[0;34m\u001B[0m\u001B[0;34m\u001B[0m\u001B[0m\n",
      "\u001B[0;32m~/packages/anaconda3/envs/tf_env/lib/python3.8/site-packages/matplotlib/axes/_base.py\u001B[0m in \u001B[0;36m_plot_args\u001B[0;34m(self, tup, kwargs, return_kwargs)\u001B[0m\n\u001B[1;32m    499\u001B[0m \u001B[0;34m\u001B[0m\u001B[0m\n\u001B[1;32m    500\u001B[0m         \u001B[0;32mif\u001B[0m \u001B[0mx\u001B[0m\u001B[0;34m.\u001B[0m\u001B[0mshape\u001B[0m\u001B[0;34m[\u001B[0m\u001B[0;36m0\u001B[0m\u001B[0;34m]\u001B[0m \u001B[0;34m!=\u001B[0m \u001B[0my\u001B[0m\u001B[0;34m.\u001B[0m\u001B[0mshape\u001B[0m\u001B[0;34m[\u001B[0m\u001B[0;36m0\u001B[0m\u001B[0;34m]\u001B[0m\u001B[0;34m:\u001B[0m\u001B[0;34m\u001B[0m\u001B[0;34m\u001B[0m\u001B[0m\n\u001B[0;32m--> 501\u001B[0;31m             raise ValueError(f\"x and y must have same first dimension, but \"\n\u001B[0m\u001B[1;32m    502\u001B[0m                              f\"have shapes {x.shape} and {y.shape}\")\n\u001B[1;32m    503\u001B[0m         \u001B[0;32mif\u001B[0m \u001B[0mx\u001B[0m\u001B[0;34m.\u001B[0m\u001B[0mndim\u001B[0m \u001B[0;34m>\u001B[0m \u001B[0;36m2\u001B[0m \u001B[0;32mor\u001B[0m \u001B[0my\u001B[0m\u001B[0;34m.\u001B[0m\u001B[0mndim\u001B[0m \u001B[0;34m>\u001B[0m \u001B[0;36m2\u001B[0m\u001B[0;34m:\u001B[0m\u001B[0;34m\u001B[0m\u001B[0;34m\u001B[0m\u001B[0m\n",
      "\u001B[0;31mValueError\u001B[0m: x and y must have same first dimension, but have shapes (7,) and (1,)"
     ]
    },
    {
     "data": {
      "text/plain": "<Figure size 432x288 with 1 Axes>",
      "image/png": "[encoded data removed]"
     },
     "metadata": {
      "needs_background": "light"
     },
     "output_type": "display_data"
    }
   ],
   "source": [
    "fids_ideal_plot = plt.boxplot(fid_ideal,\n",
    "            notch=True,  # notch shape\n",
    "            positions=np.array(range(len(fid_ideal)))*2.0-0.15,\n",
    "            vert=True,  # vertical box alignment\n",
    "            patch_artist=True,  # fill with color\n",
    "            showfliers=True,\n",
    "            flierprops=dict(marker='o', markeredgecolor='r', markersize=3),\n",
    "            widths=0.3,\n",
    "            # whis=[1,99],\n",
    "            showmeans=False,\n",
    "            meanline=False,\n",
    "            medianprops=dict(color='r'),\n",
    "            # meanprops=dict(marker='', markerfacecolor='k', markeredgecolor='k'),\n",
    "            # flierprops=None, #dict(marker='+', markerfacecolor='royalblue', markersize=6,\n",
    "            # #         markeredgecolor='royalblue', linestyle='none') ,\n",
    "            capprops=dict(linestyle='-', linewidth=1, color='r'),\n",
    "            whiskerprops=dict(linestyle = '--',color='r'),\n",
    "            labels=n_shots)  # will be used to label x-ticks\n",
    "fids_shots_plot = plt.boxplot(fid_shots,\n",
    "            notch=True,  # notch shape\n",
    "            positions=np.array(range(len(fid_shots)))*2.0+0.15,\n",
    "            vert=True,  # vertical box alignment\n",
    "            patch_artist=True,  # fill with color\n",
    "            showfliers=True,\n",
    "            flierprops=dict(marker='o', markeredgecolor='b', markersize=3),\n",
    "            widths=0.3,\n",
    "            # whis=[1,99],\n",
    "            showmeans=False,\n",
    "            meanline=False,\n",
    "            medianprops=dict(color='b'),\n",
    "            # meanprops=dict(marker='', markerfacecolor='k', markeredgecolor='k'),\n",
    "            # flierprops=None, #dict(marker='+', markerfacecolor='royalblue', markersize=6,\n",
    "            # #         markeredgecolor='royalblue', linestyle='none') ,\n",
    "            capprops=dict(linestyle='-', linewidth=1, color='b'),\n",
    "            whiskerprops=dict(linestyle = '--',color='b'),\n",
    "            labels=n_shots)  # will be used to label x-ticks\n",
    "# fids_mle_plot = plt.boxplot(fid_mle,\n",
    "#             notch=True,  # notch shape\n",
    "#             positions=np.array(range(len(fid_mle)))*2.0+0.3,\n",
    "#             vert=True,  # vertical box alignment\n",
    "#             patch_artist=True,  # fill with color\n",
    "#             showfliers=True,\n",
    "#             flierprops=dict(marker='o', markeredgecolor='g', markersize=3),\n",
    "#             widths=0.3,\n",
    "#             # whis=[1,99],\n",
    "#             showmeans=False,\n",
    "#             meanline=False,\n",
    "#             medianprops=dict(color='g'),\n",
    "#             # meanprops=dict(marker='', markerfacecolor='k', markeredgecolor='k'),\n",
    "#             # flierprops=None, #dict(marker='+', markerfacecolor='royalblue', markersize=6,\n",
    "#             # #         markeredgecolor='royalblue', linestyle='none') ,\n",
    "#             capprops=dict(linestyle='-', linewidth=1, color='g'),\n",
    "#             whiskerprops=dict(linestyle = '--',color='g'),\n",
    "#             labels=n_shots)  # will be used to label x-ticks\n",
    "\n",
    "plt.plot(np.arange(0, len(n_shots) * 2, 2) - 0.15, fid_ideal_m, 'r--', label='Pre-trained (ideal)')\n",
    "plt.plot(np.arange(0, len(n_shots) * 2, 2),+ 0.15, fid_shots_m, 'b--', label='Pre-trained (given shots)')\n",
    "# plt.plot(np.arange(0, len(n_shots) * 2, 2) + 0.3, fid_mle_m, 'g--', label='MLE')\n",
    "\n",
    "cols = [[1,0,0,0.7],\n",
    "        [0,0,1,0.7],\n",
    "        [0,.5,0,0.7]]\n",
    "\n",
    "[fids_ideal_plot['boxes'][i].set_facecolor(cols[0]) for i in range(len(n_shots))]\n",
    "[fids_ideal_plot['boxes'][i].set_color(cols[0]) for i in range(len(n_shots))]\n",
    "for cap in fids_ideal_plot['caps']:\n",
    "    cap.set_xdata(cap.get_xdata()+ np.array([-.10,.10]))\n",
    "\n",
    "[fids_shots_plot['boxes'][i].set_facecolor(cols[1]) for i in range(len(n_shots))]\n",
    "[fids_shots_plot['boxes'][i].set_color(cols[1]) for i in range(len(n_shots))]\n",
    "for cap in fids_shots_plot['caps']:\n",
    "    cap.set_xdata(cap.get_xdata()+ np.array([-.10,.10]))\n",
    "\n",
    "# [fids_mle_plot['boxes'][i].set_facecolor(cols[2]) for i in range(len(n_shots))]\n",
    "# [fids_mle_plot['boxes'][i].set_color(cols[2]) for i in range(len(n_shots))]\n",
    "# for cap in fids_mle_plot['caps']:\n",
    "#     cap.set_xdata(cap.get_xdata()+ np.array([-.10,.10]))\n",
    "\n",
    "fs = 14\n",
    "plt.grid(alpha=0.2)\n",
    "plt.xlabel(r'Shots', fontsize=fs)\n",
    "plt.ylabel('Fidelity', fontsize=fs)\n",
    "# plt.legend(fontsize='small')\n",
    "plt.legend(fontsize='large')\n",
    "# plt.xticks(np.arange(0, 3, .5), fontsize=fs)\n",
    "plt.xticks(range(0, len(n_shots) * 2, 2), n_shots, fontsize=fs)\n",
    "plt.yticks(fontsize=fs)\n",
    "\n",
    "# plt.axis([-0.7e6, 6e6, 0.55, 1.02])\n",
    "plt.subplots_adjust(bottom=0.13, left=0.13)\n",
    "plt.axis([-1, 13, 0.9, 1.])\n",
    "# plt.subplots_adjust(bottom=0.6, left=0.6)\n",
    "\n",
    "# plt.savefig('fid_vs_params.svg', dpi=600)\n",
    "# plt.savefig('fids_shots_eng_no_mle.svg', dpi=600)\n",
    "# plt.savefig('fids_shots_eng_no_mle.png', dpi=600)\n",
    "# plt.savefig('fid_vs_params_zoomed.svg', dpi=600)\n",
    "\n",
    "plt.show()"
   ],
   "metadata": {
    "collapsed": false,
    "pycharm": {
     "name": "#%%\n"
    }
   }
  },
  {
   "cell_type": "code",
   "execution_count": null,
   "outputs": [],
   "source": [],
   "metadata": {
    "collapsed": false,
    "pycharm": {
     "name": "#%%\n"
    }
   }
  }
 ],
 "metadata": {
  "kernelspec": {
   "display_name": "Python 3",
   "language": "python",
   "name": "python3"
  },
  "language_info": {
   "codemirror_mode": {
    "name": "ipython",
    "version": 2
   },
   "file_extension": ".py",
   "mimetype": "text/x-python",
   "name": "python",
   "nbconvert_exporter": "python",
   "pygments_lexer": "ipython2",
   "version": "2.7.6"
  }
 },
 "nbformat": 4,
 "nbformat_minor": 0
}