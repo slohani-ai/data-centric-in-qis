{
 "cells": [
  {
   "cell_type": "code",
   "execution_count": 2,
   "metadata": {
    "collapsed": true
   },
   "outputs": [],
   "source": [
    "import pandas as pd\n",
    "import numpy as np\n",
    "import matplotlib.pyplot as plt"
   ]
  },
  {
   "cell_type": "code",
   "execution_count": 4,
   "outputs": [
    {
     "name": "stdout",
     "output_type": "stream",
     "text": [
      "128\n",
      "256\n",
      "512\n",
      "1024\n",
      "2048\n",
      "4096\n",
      "8192\n"
     ]
    }
   ],
   "source": [
    "fid_nn_list = []\n",
    "fid_nn_mean_list = []\n",
    "\n",
    "\n",
    "fid_nn_list_low = []\n",
    "fid_nn_mean_list_low = []\n",
    "\n",
    "fid_mle_list = []\n",
    "fid_mle_mean_list = []\n",
    "n_shots = [128, 256, 512, 1024, 2048, 4096, 8192] #, 4096]\n",
    "for shots in  n_shots:\n",
    "    print(shots)\n",
    "    fm_list, fm_av, model_dms, params_list = pd.read_pickle(\n",
    "        # f'../low_shots_training/test_prediction_results_data_driven/fidelity_list_fid_av_pred_dm_params_alpha_0.3394171312620001_test_shots_{shots}_train_with_shots_ideal.pickle')\n",
    "        f'../low_shots_training/test_prediction_results_data_driven/fidelity_list_fid_av_pred_dm_params_alpha_0.3394171312620001_test_shots_{shots}_train_with_shots_ideal_LAST.pickle')\n",
    "    mle_fids_list, mle_av, dm_target, dm_fitted = pd.read_pickle(\n",
    "        f'../../mle_outputs/convoluted_mle_fids_list_fids_mean_shots_{shots}_n_size_500.pickle')\n",
    "\n",
    "    fm_list_low, fm_av_low, model_dms_low, params_list_low = pd.read_pickle(\n",
    "        # f'../low_shots_training/test_prediction_results_data_driven/fidelity_list_fid_av_pred_dm_params_alpha_Eng_test_shots_{shots}_train_with_shots_{shots}.pickle')\n",
    "        f'../low_shots_training/test_prediction_results_data_driven/fidelity_list_fid_av_pred_dm_params_alpha_Eng_test_shots_{shots}_train_with_shots_{shots}_LAST.pickle')\n",
    "    # if shots == 1024:\n",
    "    #     fid_nn_list.append(fm_list[0][-1])\n",
    "    # else:\n",
    "    fid_nn_list.append(fm_list)\n",
    "    fid_nn_mean_list.append(fm_av)\n",
    "\n",
    "    fid_nn_list_low.append(fm_list_low)\n",
    "    fid_nn_mean_list_low.append(fm_av_low)\n",
    "\n",
    "    fid_mle_list.append(mle_fids_list)\n",
    "    fid_mle_mean_list.append(mle_av)\n",
    "\n",
    "fid_ideal = np.squeeze(fid_nn_list).tolist()\n",
    "fid_ideal_m = np.squeeze(fid_nn_list).mean(axis=1)\n",
    "fid_shots = np.squeeze(fid_nn_list_low).tolist()\n",
    "fid_shots_m = np.squeeze(fid_nn_list_low).mean(axis=1)\n",
    "fid_mle = np.squeeze(fid_mle_list)[:,:400].tolist()\n",
    "fid_mle_m = np.squeeze(fid_mle_list)[:,:400].mean(axis=1)"
   ],
   "metadata": {
    "collapsed": false,
    "pycharm": {
     "name": "#%%\n"
    }
   }
  },
  {
   "cell_type": "code",
   "execution_count": 5,
   "outputs": [
    {
     "data": {
      "text/plain": "<Figure size 432x288 with 1 Axes>",
      "image/png": "[encoded data removed]"
     },
     "metadata": {
      "needs_background": "light"
     },
     "output_type": "display_data"
    }
   ],
   "source": [
    "fids_ideal_plot = plt.boxplot(fid_ideal,\n",
    "            notch=True,  # notch shape\n",
    "            positions=np.array(range(len(fid_ideal)))*2.0-0.3,\n",
    "            vert=True,  # vertical box alignment\n",
    "            patch_artist=True,  # fill with color\n",
    "            showfliers=True,\n",
    "            flierprops=dict(marker='o', markeredgecolor='r', markersize=3),\n",
    "            widths=0.3,\n",
    "            # whis=[1,99],\n",
    "            showmeans=False,\n",
    "            meanline=False,\n",
    "            medianprops=dict(color='r'),\n",
    "            # meanprops=dict(marker='', markerfacecolor='k', markeredgecolor='k'),\n",
    "            # flierprops=None, #dict(marker='+', markerfacecolor='royalblue', markersize=6,\n",
    "            # #         markeredgecolor='royalblue', linestyle='none') ,\n",
    "            capprops=dict(linestyle='-', linewidth=1, color='r'),\n",
    "            whiskerprops=dict(linestyle = '--',color='r'),\n",
    "            labels=n_shots)  # will be used to label x-ticks\n",
    "fids_shots_plot = plt.boxplot(fid_shots,\n",
    "            notch=True,  # notch shape\n",
    "            positions=np.array(range(len(fid_shots)))*2.0,\n",
    "            vert=True,  # vertical box alignment\n",
    "            patch_artist=True,  # fill with color\n",
    "            showfliers=True,\n",
    "            flierprops=dict(marker='o', markeredgecolor='b', markersize=3),\n",
    "            widths=0.3,\n",
    "            # whis=[1,99],\n",
    "            showmeans=False,\n",
    "            meanline=False,\n",
    "            medianprops=dict(color='b'),\n",
    "            # meanprops=dict(marker='', markerfacecolor='k', markeredgecolor='k'),\n",
    "            # flierprops=None, #dict(marker='+', markerfacecolor='royalblue', markersize=6,\n",
    "            # #         markeredgecolor='royalblue', linestyle='none') ,\n",
    "            capprops=dict(linestyle='-', linewidth=1, color='b'),\n",
    "            whiskerprops=dict(linestyle = '--',color='b'),\n",
    "            labels=n_shots)  # will be used to label x-ticks\n",
    "# fids_mle_plot = plt.boxplot(fid_mle,\n",
    "#             notch=True,  # notch shape\n",
    "#             positions=np.array(range(len(fid_mle)))*2.0+0.3,\n",
    "#             vert=True,  # vertical box alignment\n",
    "#             patch_artist=True,  # fill with color\n",
    "#             showfliers=True,\n",
    "#             flierprops=dict(marker='o', markeredgecolor='g', markersize=3),\n",
    "#             widths=0.3,\n",
    "#             # whis=[1,99],\n",
    "#             showmeans=False,\n",
    "#             meanline=False,\n",
    "#             medianprops=dict(color='g'),\n",
    "#             # meanprops=dict(marker='', markerfacecolor='k', markeredgecolor='k'),\n",
    "#             # flierprops=None, #dict(marker='+', markerfacecolor='royalblue', markersize=6,\n",
    "#             # #         markeredgecolor='royalblue', linestyle='none') ,\n",
    "#             capprops=dict(linestyle='-', linewidth=1, color='g'),\n",
    "#             whiskerprops=dict(linestyle = '--',color='g'),\n",
    "#             labels=n_shots)  # will be used to label x-ticks\n",
    "\n",
    "plt.plot(np.arange(0, len(n_shots) * 2, 2) - 0.3, fid_ideal_m, 'r--', label='Pre-trained (ideal)')\n",
    "plt.plot(np.arange(0, len(n_shots) * 2, 2), fid_shots_m, 'b--', label='Pre-trained (given shots)')\n",
    "# plt.plot(np.arange(0, len(n_shots) * 2, 2) + 0.3, fid_mle_m, 'g--', label='MLE')\n",
    "\n",
    "cols = [[1,0,0,0.7],\n",
    "        [0,0,1,0.7],\n",
    "        [0,.5,0,0.7]]\n",
    "\n",
    "[fids_ideal_plot['boxes'][i].set_facecolor(cols[0]) for i in range(len(n_shots))]\n",
    "[fids_ideal_plot['boxes'][i].set_color(cols[0]) for i in range(len(n_shots))]\n",
    "for cap in fids_ideal_plot['caps']:\n",
    "    cap.set_xdata(cap.get_xdata()+ np.array([-.10,.10]))\n",
    "\n",
    "[fids_shots_plot['boxes'][i].set_facecolor(cols[1]) for i in range(len(n_shots))]\n",
    "[fids_shots_plot['boxes'][i].set_color(cols[1]) for i in range(len(n_shots))]\n",
    "for cap in fids_shots_plot['caps']:\n",
    "    cap.set_xdata(cap.get_xdata()+ np.array([-.10,.10]))\n",
    "\n",
    "# [fids_mle_plot['boxes'][i].set_facecolor(cols[2]) for i in range(len(n_shots))]\n",
    "# [fids_mle_plot['boxes'][i].set_color(cols[2]) for i in range(len(n_shots))]\n",
    "# for cap in fids_mle_plot['caps']:\n",
    "#     cap.set_xdata(cap.get_xdata()+ np.array([-.10,.10]))\n",
    "\n",
    "fs = 14\n",
    "plt.grid(alpha=0.2)\n",
    "plt.xlabel(r'Shots', fontsize=fs)\n",
    "plt.ylabel('Fidelity', fontsize=fs)\n",
    "# plt.legend(fontsize='small')\n",
    "plt.legend(fontsize='large')\n",
    "# plt.xticks(np.arange(0, 3, .5), fontsize=fs)\n",
    "plt.xticks(range(0, len(n_shots) * 2, 2), n_shots, fontsize=fs)\n",
    "plt.yticks(fontsize=fs)\n",
    "\n",
    "# plt.axis([-0.7e6, 6e6, 0.55, 1.02])\n",
    "plt.subplots_adjust(bottom=0.13, left=0.13)\n",
    "plt.axis([-1, 13, 0.9, 1.])\n",
    "# plt.subplots_adjust(bottom=0.6, left=0.6)\n",
    "\n",
    "# plt.savefig('fid_vs_params.svg', dpi=600)\n",
    "# plt.savefig('fids_shots_eng_no_mle.svg', dpi=600)\n",
    "# plt.savefig('fids_shots_eng_no_mle.png', dpi=600)\n",
    "# plt.savefig('fid_vs_params_zoomed.svg', dpi=600)\n",
    "\n",
    "plt.show()"
   ],
   "metadata": {
    "collapsed": false,
    "pycharm": {
     "name": "#%%\n"
    }
   }
  },
  {
   "cell_type": "code",
   "execution_count": null,
   "outputs": [],
   "source": [],
   "metadata": {
    "collapsed": false,
    "pycharm": {
     "name": "#%%\n"
    }
   }
  }
 ],
 "metadata": {
  "kernelspec": {
   "display_name": "Python 3",
   "language": "python",
   "name": "python3"
  },
  "language_info": {
   "codemirror_mode": {
    "name": "ipython",
    "version": 2
   },
   "file_extension": ".py",
   "mimetype": "text/x-python",
   "name": "python",
   "nbconvert_exporter": "python",
   "pygments_lexer": "ipython2",
   "version": "2.7.6"
  }
 },
 "nbformat": 4,
 "nbformat_minor": 0
}