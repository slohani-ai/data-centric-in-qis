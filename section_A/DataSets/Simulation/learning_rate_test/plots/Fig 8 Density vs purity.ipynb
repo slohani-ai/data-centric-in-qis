{
 "cells": [
  {
   "cell_type": "code",
   "execution_count": 4,
   "metadata": {
    "collapsed": true
   },
   "outputs": [],
   "source": [
    "import sys\n",
    "sys.path.insert(0, '../../utils')\n",
    "import pandas as pd\n",
    "import numpy as np\n",
    "from mpl_toolkits import mplot3d\n",
    "\n",
    "import matplotlib.pyplot as plt\n",
    "import Fidelity_Measure as fm\n",
    "import Purity_Measure as PM\n",
    "import os"
   ]
  },
  {
   "cell_type": "code",
   "execution_count": 5,
   "outputs": [
    {
     "name": "stdout",
     "output_type": "stream",
     "text": [
      "(12, 200)\n",
      "(12, 200)\n",
      "(8, 200)\n",
      "(8, 200)\n",
      "0.01\n",
      "(200,)\n"
     ]
    }
   ],
   "source": [
    "\n",
    "# model driven read\n",
    "# print(os.getcwd())\n",
    "fm_list, fm_av, model_dms, params_list, plist, pmean = pd.read_pickle('../test_prediction_results_data_driven/fidelity_list_fid_av_pred_dm_params_plist_pmean_alpha_HS_Haar_eta_vary.pickle')\n",
    "fm_list_b, fm_av_b, model_dms_b, params_list_b, plist_b, pmean_b = pd.read_pickle('../test_prediction_results_data_driven/fidelity_list_fid_av_pred_dm_params_plist_pmean_alpha_Brian_25_eta_vary.pickle')\n",
    "fm_list_ma, fm_av_ma, model_dms_ma, params_list_ma, plist_ma, pmean_ma = pd.read_pickle('../test_prediction_results_data_driven/fidelity_list_fid_av_pred_dm_params_plist_pmean_alpha_0.8_eta_vary.pickle')\n",
    "\n",
    "mle_fids_list, mle_av, dm_target, dm_fitted = pd.read_pickle('../../mle_outputs/convoluted_mle_fids_list_fids_mean_shots_1024.pickle')\n",
    "\n",
    "\n",
    "fm_array = np.array(fm_list)\n",
    "\n",
    "print(fm_array.shape)\n",
    "fm_std = fm_array.std(axis=1)\n",
    "fm_av = np.array(fm_av)\n",
    "\n",
    "p_array = np.array(plist)\n",
    "print(p_array.shape)\n",
    "p_std = p_array.std(axis=1)\n",
    "p_mean = np.array(pmean)\n",
    "\n",
    "p_array_b = np.array(plist_b)\n",
    "print(p_array_b.shape)\n",
    "p_std_b = p_array_b.std(axis=1)\n",
    "p_mean_b = np.array(pmean_b)\n",
    "\n",
    "p_array_ma = np.array(plist_ma)\n",
    "print(p_array_ma.shape)\n",
    "p_std_ma = p_array_ma.std(axis=1)\n",
    "p_mean_ma = np.array(pmean_ma)\n",
    "\n",
    "eta = [0.0008, 0.002, 0.004, 0.006, 0.008, 0.01, 0.03, 0.05, 0.08, 0.1, 0.15, 0.2]\n",
    "print(eta[5])\n",
    "\n",
    "eta = np.array(eta)\n",
    "\n",
    "# fig = plt.figure()\n",
    "# ax = plt.axes(projection='3d')\n",
    "# x, y = np.meshgrid(eta, pmean)\n",
    "# ax.plot_surface(x,y,fm_array)\n",
    "# plt.show()\n",
    "\n",
    "\n",
    "tparray = PM.purity(dm_target)\n",
    "print(tparray.shape)\n",
    "tpmean = np.repeat(np.mean(tparray), 8)\n",
    "tpstd = np.repeat(np.std(tparray), 8)"
   ],
   "metadata": {
    "collapsed": false,
    "pycharm": {
     "name": "#%%\n"
    }
   }
  },
  {
   "cell_type": "code",
   "execution_count": 6,
   "outputs": [
    {
     "data": {
      "text/plain": "<Figure size 432x288 with 1 Axes>",
      "image/png": "[encoded data removed]"
     },
     "metadata": {
      "needs_background": "light"
     },
     "output_type": "display_data"
    }
   ],
   "source": [
    "\n",
    "fs = 14\n",
    "plt.hist(p_array[4].flatten(), 30, density=True, histtype='step', alpha=1, color='b', label=r'NN (HS-Haar) at $\\eta=0.008$')\n",
    "plt.hist(p_array_b[4].flatten(), 30, density=True, histtype='step', alpha=1, color='orange', label=r'NN (Z) at $\\eta=0.008$')\n",
    "plt.hist(p_array_ma[4].flatten(), 30, density=True, histtype='step', alpha=1, color='cyan', label=r'NN (MA) at $\\eta=0.008$')\n",
    "plt.hist(tparray.flatten(), 30, density=True, histtype='step', alpha=1, color='g', label=f'IBMQ')\n",
    "plt.xlabel('Purity', fontsize=fs)\n",
    "plt.xticks(fontsize=fs)\n",
    "plt.yticks(fontsize=fs)\n",
    "plt.ylabel('Density \\n [arb. units]', fontsize=fs)\n",
    "plt.axis([0.6, 1.02, 0, 20])\n",
    "# plt.legend(fontsize='small')\n",
    "# plt.title(r'$\\eta=0.008$')\n",
    "# plt.grid(alpha=0.2)\n",
    "plt.subplots_adjust(bottom=0.55, left=0.55)\n",
    "# plt.savefig('histo_purity_eta_0.008.svg', dpi=600)\n",
    "# plt.savefig('histo_alpha.png', dpi=600)\n",
    "plt.show()"
   ],
   "metadata": {
    "collapsed": false,
    "pycharm": {
     "name": "#%%\n"
    }
   }
  }
 ],
 "metadata": {
  "kernelspec": {
   "display_name": "Python 3",
   "language": "python",
   "name": "python3"
  },
  "language_info": {
   "codemirror_mode": {
    "name": "ipython",
    "version": 2
   },
   "file_extension": ".py",
   "mimetype": "text/x-python",
   "name": "python",
   "nbconvert_exporter": "python",
   "pygments_lexer": "ipython2",
   "version": "2.7.6"
  }
 },
 "nbformat": 4,
 "nbformat_minor": 0
}