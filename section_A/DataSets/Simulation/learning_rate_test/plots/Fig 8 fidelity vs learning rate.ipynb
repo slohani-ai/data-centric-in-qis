{
 "cells": [
  {
   "cell_type": "code",
   "execution_count": 4,
   "metadata": {
    "collapsed": true
   },
   "outputs": [],
   "source": [
    "import sys\n",
    "sys.path.insert(0, '../../utils')\n",
    "import pandas as pd\n",
    "import numpy as np\n",
    "from mpl_toolkits import mplot3d\n",
    "\n",
    "import matplotlib.pyplot as plt\n",
    "import Fidelity_Measure as fm\n",
    "import Purity_Measure as PM\n",
    "import os"
   ]
  },
  {
   "cell_type": "code",
   "execution_count": 5,
   "outputs": [
    {
     "name": "stdout",
     "output_type": "stream",
     "text": [
      "(12, 200)\n",
      "(12, 200)\n",
      "(8, 200)\n",
      "(8, 200)\n",
      "(8, 200)\n",
      "(8, 200)\n"
     ]
    }
   ],
   "source": [
    "\n",
    "# model driven read\n",
    "# print(os.getcwd())\n",
    "fm_list, fm_av, model_dms, params_list, plist, pmean = pd.read_pickle('../test_prediction_results_data_driven/fidelity_list_fid_av_pred_dm_params_plist_pmean_alpha_HS_Haar_eta_vary.pickle')\n",
    "fm_list_b, fm_av_b, model_dms_b, params_list_b, plist_b, pmean_b = pd.read_pickle('../test_prediction_results_data_driven/fidelity_list_fid_av_pred_dm_params_plist_pmean_alpha_Brian_25_eta_vary.pickle')\n",
    "fm_list_ma, fm_av_ma, model_dms_ma, params_list_ma, plist_ma, pmean_ma = pd.read_pickle('../test_prediction_results_data_driven/fidelity_list_fid_av_pred_dm_params_plist_pmean_alpha_0.8_eta_vary.pickle')\n",
    "\n",
    "mle_fids_list, mle_av, dm_target, dm_fitted = pd.read_pickle('../../mle_outputs/convoluted_mle_fids_list_fids_mean_shots_1024.pickle')\n",
    "\n",
    "\n",
    "fm_array = np.array(fm_list)\n",
    "print(fm_array.shape)\n",
    "fm_std = fm_array.std(axis=1)\n",
    "fm_av = np.array(fm_av)\n",
    "\n",
    "p_array = np.array(plist)\n",
    "print(p_array.shape)\n",
    "p_std = p_array.std(axis=1)\n",
    "p_mean = np.array(pmean)\n",
    "\n",
    "fm_array_b = np.array(fm_list_b)\n",
    "print(fm_array_b.shape)\n",
    "fm_std_b = fm_array_b.std(axis=1)\n",
    "fm_av_b = np.array(fm_av_b)\n",
    "\n",
    "p_array_b = np.array(plist_b)\n",
    "print(p_array_b.shape)\n",
    "p_std_b = p_array_b.std(axis=1)\n",
    "p_mean_b = np.array(pmean_b)\n",
    "\n",
    "fm_array_ma = np.array(fm_list_ma)\n",
    "print(fm_array_ma.shape)\n",
    "fm_std_ma = fm_array_ma.std(axis=1)\n",
    "fm_av_ma = np.array(fm_av_ma)\n",
    "\n",
    "p_array_ma = np.array(plist_ma)\n",
    "print(p_array_ma.shape)\n",
    "p_std_ma = p_array_ma.std(axis=1)\n",
    "p_mean_ma = np.array(pmean_ma)\n",
    "\n",
    "\n",
    "eta = [0.0008, 0.002, 0.004, 0.006, 0.008, 0.01, 0.03, 0.05, 0.08, 0.1, 0.15, 0.2]\n",
    "\n",
    "eta = np.array(eta)\n",
    "\n",
    "# fig = plt.figure()\n",
    "# ax = plt.axes(projection='3d')\n",
    "# x, y = np.meshgrid(eta, pmean)\n",
    "# ax.plot_surface(x,y,fm_array)\n",
    "# plt.show()\n",
    "\n",
    "\n",
    "tparray = PM.purity(dm_target)\n",
    "tpmean = np.repeat(np.mean(tparray), 8)\n",
    "tpstd = np.repeat(np.std(tparray), 8)"
   ],
   "metadata": {
    "collapsed": false,
    "pycharm": {
     "name": "#%%\n"
    }
   }
  },
  {
   "cell_type": "code",
   "execution_count": 6,
   "outputs": [
    {
     "data": {
      "text/plain": "<Figure size 432x288 with 1 Axes>",
      "image/png": "[encoded data removed]"
     },
     "metadata": {
      "needs_background": "light"
     },
     "output_type": "display_data"
    }
   ],
   "source": [
    "\n",
    "plt.errorbar(eta[:8], fm_av[:8], yerr=fm_std[:8], xerr=None, fmt='-bo', ecolor='b',\n",
    "             elinewidth=1, linewidth=1, markersize=4, capsize=3, barsabove=False, lolims=False, uplims=False,\n",
    "             xlolims=False, xuplims=False, errorevery=1, capthick=1, data=None, label='NN (HS-Haar)')\n",
    "\n",
    "plt.errorbar(eta[:8], fm_av_b[:8], yerr=fm_std_b[:8], xerr=None, fmt=\"-o\", color='orange', ecolor='orange',\n",
    "             elinewidth=1, linewidth=1, markersize=4, capsize=3, barsabove=False, lolims=False, uplims=False,\n",
    "             xlolims=False, xuplims=False, errorevery=1, capthick=1, data=None, label='NN (Z)')\n",
    "\n",
    "\n",
    "plt.errorbar(eta[:8], fm_av_ma[:8], yerr=fm_std_ma[:8], xerr=None, fmt='-o', color='cyan', ecolor='cyan',\n",
    "             elinewidth=1, linewidth=1, markersize=4, capsize=3, barsabove=False, lolims=False, uplims=False,\n",
    "             xlolims=False, xuplims=False, errorevery=1, capthick=1, data=None, label=r'NN (MA: $\\alpha=0.8$)')\n",
    "\n",
    "# plt.errorbar(eta[:8], tpmean[:8], yerr=tpstd[:8], xerr=None, fmt='-ro', ecolor='r',\n",
    "#              elinewidth=1, linewidth=1, markersize=4, capsize=3, barsabove=False, lolims=False, uplims=False,\n",
    "#              xlolims=False, xuplims=False, errorevery=1, capthick=1, data=None, label='IBMQ')\n",
    "\n",
    "fs = 14\n",
    "plt.grid(alpha=0.2)\n",
    "plt.xlabel(r'Learning Rate ($\\eta$)', fontsize=fs)\n",
    "plt.ylabel('Fidelity', fontsize=fs)\n",
    "# plt.legend()\n",
    "plt.xticks(fontsize=fs)\n",
    "plt.yticks(fontsize=fs)\n",
    "\n",
    "# plt.axis([-0.7e6, 6e6, 0.55, 1.02])\n",
    "plt.subplots_adjust(bottom=0.13, left=0.13)\n",
    "plt.axis([-0.001, .051, 0.88, 1.])\n",
    "# plt.subplots_adjust(bottom=0.6, left=0.6)\n",
    "\n",
    "# plt.savefig('fid_vs_params.svg', dpi=600)\n",
    "# plt.savefig('eta_vs_fid.svg', dpi=600)\n",
    "# plt.savefig('fid_vs_params_zoomed.svg', dpi=600)\n",
    "\n",
    "plt.show()"
   ],
   "metadata": {
    "collapsed": false,
    "pycharm": {
     "name": "#%%\n"
    }
   }
  }
 ],
 "metadata": {
  "kernelspec": {
   "display_name": "Python 3",
   "language": "python",
   "name": "python3"
  },
  "language_info": {
   "codemirror_mode": {
    "name": "ipython",
    "version": 2
   },
   "file_extension": ".py",
   "mimetype": "text/x-python",
   "name": "python",
   "nbconvert_exporter": "python",
   "pygments_lexer": "ipython2",
   "version": "2.7.6"
  }
 },
 "nbformat": 4,
 "nbformat_minor": 0
}