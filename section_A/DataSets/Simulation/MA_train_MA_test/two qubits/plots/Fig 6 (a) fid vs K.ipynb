{
 "cells": [
  {
   "cell_type": "code",
   "execution_count": 1,
   "metadata": {
    "collapsed": true
   },
   "outputs": [],
   "source": [
    "import sys\n",
    "\n",
    "import pandas as pd\n",
    "import numpy as np\n",
    "import matplotlib.pyplot as plt"
   ]
  },
  {
   "cell_type": "code",
   "execution_count": 2,
   "outputs": [
    {
     "name": "stdout",
     "output_type": "stream",
     "text": [
      "[0.97232556 0.97491702 0.97544979 0.97483867]\n"
     ]
    },
    {
     "data": {
      "text/plain": "<Figure size 432x288 with 1 Axes>",
      "image/png": "[encoded data removed]"
     },
     "metadata": {
      "needs_background": "light"
     },
     "output_type": "display_data"
    }
   ],
   "source": [
    "kparams_values = ['4_no_truncation', '5_no_truncation', '6_no_truncation', '7_no_truncation']\n",
    "K = [4, 5, 6, 7]\n",
    "fidelity_list, fidelity_av, dms, cm_list, pur_list, params_list = pd.read_pickle(\"../test_prediction_results_data_driven/fidelity_list_fid_av_pred_dm_params_alpha_0.1_k_params_['4_no_truncation', '5_no_truncation', '6_no_truncation', '7_no_truncation'].pickle\")\n",
    "\n",
    "\n",
    "fid_nn = np.array(fidelity_list).reshape(4, 10, -1)\n",
    "fid_nn_unfit = fid_nn[:5]\n",
    "fid_nn_unfit_m = np.mean(np.mean(fid_nn_unfit, axis=-1), axis=1)\n",
    "print(fid_nn_unfit_m)\n",
    "fid_nn_unfit_std = np.std(np.std(fid_nn_unfit, axis=-1), axis=-1)\n",
    "# fid_nn_fit = fid_nn[5:]\n",
    "# fid_nn_fit_m = np.mean(fid_nn_fit, axis=1)\n",
    "# fid_nn_fit_std = np.std(fid_nn_fit, axis=1)\n",
    "\n",
    "\n",
    "con_nn = np.array(cm_list)\n",
    "pur_nn = np.array(pur_list)\n",
    "\n",
    "# plt.errorbar(K, mle_mean, yerr=mle_std, xerr=None, fmt='--ko', ecolor='k',\n",
    "#              elinewidth=1.5, linewidth=1.5, markersize=5, capsize=5, barsabove=False, lolims=False, uplims=False,\n",
    "#              xlolims=False, xuplims=False, errorevery=1, capthick=1, data=None, label='MLE')\n",
    "\n",
    "# plt.errorbar(K, fid_nn_fit_m, yerr=fid_nn_fit_std, xerr=None, fmt='-ro', ecolor='r',\n",
    "#              elinewidth=1.5, linewidth=1.5, markersize=5, capsize=5, barsabove=False, lolims=False, uplims=False,\n",
    "#              xlolims=False, xuplims=False, errorevery=1, capthick=1, data=None, label='Fitted (NN)')\n",
    "\n",
    "\n",
    "plt.errorbar(K, fid_nn_unfit_m, yerr=fid_nn_unfit_std, xerr=None, fmt='-ko', ecolor='k',\n",
    "             elinewidth=1.5, linewidth=1.5, markersize=5, capsize=5, barsabove=False, lolims=False, uplims=False,\n",
    "             xlolims=False, xuplims=False, errorevery=1, capthick=1, data=None, label=r'Unfitted (NN)')\n",
    "\n",
    "\n",
    "fs = 14\n",
    "# plt.grid(alpha=0.2)\n",
    "plt.xlabel(r'K', fontsize=fs)\n",
    "plt.ylabel('Fidelity', fontsize=fs)\n",
    "# plt.legend()\n",
    "plt.xticks(np.arange(4, 9), fontsize=fs)\n",
    "plt.yticks(fontsize=fs)\n",
    "\n",
    "# plt.axis([-0.7e6, 6e6, 0.55, 1.02])\n",
    "plt.subplots_adjust(bottom=0.6, left=0.6)\n",
    "plt.axis([3.75, 7.25, 0.97, .976])\n",
    "# plt.subplots_adjust(bottom=0.6, left=0.6)\n",
    "\n",
    "# plt.savefig('fid_vs_K_MA_MA_alpha_0.1.svg', dpi=600)\n",
    "# plt.savefig('fid_vs_K_MA_MA_alpha_0.1.png', dpi=600)\n",
    "# plt.savefig('fid_vs_K_zoomed.svg', dpi=600)\n",
    "\n",
    "plt.show()\n"
   ],
   "metadata": {
    "collapsed": false,
    "pycharm": {
     "name": "#%%\n"
    }
   }
  }
 ],
 "metadata": {
  "kernelspec": {
   "display_name": "Python 3",
   "language": "python",
   "name": "python3"
  },
  "language_info": {
   "codemirror_mode": {
    "name": "ipython",
    "version": 2
   },
   "file_extension": ".py",
   "mimetype": "text/x-python",
   "name": "python",
   "nbconvert_exporter": "python",
   "pygments_lexer": "ipython2",
   "version": "2.7.6"
  }
 },
 "nbformat": 4,
 "nbformat_minor": 0
}