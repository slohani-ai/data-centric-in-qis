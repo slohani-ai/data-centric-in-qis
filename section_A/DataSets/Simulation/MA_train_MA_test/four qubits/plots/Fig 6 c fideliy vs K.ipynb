{
 "cells": [
  {
   "cell_type": "code",
   "execution_count": 2,
   "metadata": {
    "collapsed": true
   },
   "outputs": [
    {
     "name": "stdout",
     "output_type": "stream",
     "text": [
      "[0.83903868 0.84031651 0.84038759 0.84045403]\n",
      "[0.83903868 0.84031651 0.84038759 0.84045403]\n"
     ]
    },
    {
     "data": {
      "text/plain": "<Figure size 432x288 with 1 Axes>",
      "image/png": "[encoded data removed]"
     },
     "metadata": {
      "needs_background": "light"
     },
     "output_type": "display_data"
    }
   ],
   "source": [
    "import sys\n",
    "sys.path.insert(0, '../utils')\n",
    "import pandas as pd\n",
    "import numpy as np\n",
    "from mpl_toolkits import mplot3d\n",
    "\n",
    "import matplotlib.pyplot as plt\n",
    "import Fidelity_Measure as fm\n",
    "import Purity_Measure as pm\n",
    "import Concurrence_Measure as cm\n",
    "import os\n",
    "\n",
    "\n",
    "\n",
    "# tomo_test, dm_test, dm_mle = pd.read_pickle(f'../../../../IBMQ/test_data/testdata_qubit_size_2.pkl')\n",
    "# con_test = cm.concurrence(dm_mle)\n",
    "# pur_test = pm.purity(dm_mle)\n",
    "#\n",
    "#\n",
    "# fids_mle, fids_av_mle, dm_target, rho_fit_array_mle = pd.read_pickle('../../../mle_outputs/convoluted_mle_fids_list_fids_mean_shots_1024_n_size_500.pickle')\n",
    "#\n",
    "# # pur_mle = pm.purity(rho_fit_array_mle)\n",
    "# # con_mle = cm.concurrence(rho_fit_array_mle)\n",
    "# mle_m = np.array(fids_av_mle)\n",
    "# mle_std = np.std(fids_mle)\n",
    "# mle_mean = np.repeat(mle_m, 5)\n",
    "# print(mle_mean)\n",
    "# mle_std = np.repeat(mle_std, 5)\n",
    "# print(mle_std)\n",
    "\n",
    "kparams_values = ['16_no_truncation', '19_no_truncation', '22_no_truncation', '25_no_truncation']\n",
    "K = [16, 19 , 22, 25]\n",
    "fidelity_list, fidelity_av, dms, pur_list, params_list = pd.read_pickle(\"../test_prediction_results_data_driven/fidelity_list_fid_av_pred_dm_params_alpha_0.015_k_params_['16_no_truncation', '19_no_truncation', '22_no_truncation', '25_no_truncation']_qs_4.pickle\")\n",
    "\n",
    "\n",
    "# fid_nn = np.array(fidelity_list).reshape(4, -1)\n",
    "# fid_nn_unfit = fid_nn[:5]\n",
    "\n",
    "# fid_nn_unfit_m = np.mean(fid_nn_unfit, axis=-1)\n",
    "# print(fid_nn_unfit_m)\n",
    "# fid_nn_unfit_std = np.std(fid_nn_unfit, axis=-1)\n",
    "\n",
    "fid_nn = np.array(fidelity_list).reshape(4, 10, -1)\n",
    "fid_nn_unfit = fid_nn[:5]\n",
    "fid_nn_unfit_m = np.mean(np.mean(fid_nn_unfit, axis=-1), axis=1)\n",
    "print(fid_nn_unfit_m)\n",
    "fid_nn_unfit_std = np.std(np.std(fid_nn_unfit, axis=-1), axis=-1)\n",
    "fid_nn_fit = fid_nn[5:]\n",
    "fid_nn_fit_m = np.mean(fid_nn_fit, axis=1)\n",
    "fid_nn_fit_std = np.std(fid_nn_fit, axis=1)\n",
    "\n",
    "\n",
    "# con_nn = np.array(cm_list)\n",
    "pur_nn = np.array(pur_list)\n",
    "\n",
    "# plt.errorbar(K, mle_mean, yerr=mle_std, xerr=None, fmt='--ko', ecolor='k',\n",
    "#              elinewidth=1.5, linewidth=1.5, markersize=5, capsize=5, barsabove=False, lolims=False, uplims=False,\n",
    "#              xlolims=False, xuplims=False, errorevery=1, capthick=1, data=None, label='MLE')\n",
    "\n",
    "# plt.errorbar(K, fid_nn_fit_m, yerr=fid_nn_fit_std, xerr=None, fmt='-ro', ecolor='r',\n",
    "#              elinewidth=1.5, linewidth=1.5, markersize=5, capsize=5, barsabove=False, lolims=False, uplims=False,\n",
    "#              xlolims=False, xuplims=False, errorevery=1, capthick=1, data=None, label='Fitted (NN)')\n",
    "\n",
    "print(fid_nn_unfit_m)\n",
    "plt.errorbar(K, fid_nn_unfit_m, yerr=fid_nn_unfit_std, xerr=None, fmt='-ko', ecolor='k',\n",
    "             elinewidth=1.5, linewidth=1.5, markersize=5, capsize=5, barsabove=False, lolims=False, uplims=False,\n",
    "             xlolims=False, xuplims=False, errorevery=1, capthick=1, data=None, label=r'Unfitted (NN)')\n",
    "\n",
    "\n",
    "fs = 14\n",
    "# plt.grid(alpha=0.2)\n",
    "plt.xlabel(r'K', fontsize=fs)\n",
    "plt.ylabel('Fidelity', fontsize=fs)\n",
    "# plt.legend()\n",
    "plt.xticks(np.arange(16, 26, 3), fontsize=fs)\n",
    "plt.yticks(fontsize=fs)\n",
    "\n",
    "# plt.axis([-0.7e6, 6e6, 0.55, 1.02])\n",
    "plt.subplots_adjust(bottom=0.6, left=0.6)\n",
    "plt.axis([15.75, 25.25, 0.835, .845])\n",
    "# plt.subplots_adjust(bottom=0.6, left=0.6)\n",
    "\n",
    "# plt.savefig('fid_vs_K_MA_MA_alpha_0.015.svg', dpi=600)\n",
    "# plt.savefig('fid_vs_K_MA_MA_alpha_0.015.png', dpi=600)\n",
    "# plt.savefig('fid_vs_K_zoomed.svg', dpi=600)\n",
    "\n",
    "plt.show()\n"
   ]
  }
 ],
 "metadata": {
  "kernelspec": {
   "display_name": "Python 3",
   "language": "python",
   "name": "python3"
  },
  "language_info": {
   "codemirror_mode": {
    "name": "ipython",
    "version": 2
   },
   "file_extension": ".py",
   "mimetype": "text/x-python",
   "name": "python",
   "nbconvert_exporter": "python",
   "pygments_lexer": "ipython2",
   "version": "2.7.6"
  }
 },
 "nbformat": 4,
 "nbformat_minor": 0
}