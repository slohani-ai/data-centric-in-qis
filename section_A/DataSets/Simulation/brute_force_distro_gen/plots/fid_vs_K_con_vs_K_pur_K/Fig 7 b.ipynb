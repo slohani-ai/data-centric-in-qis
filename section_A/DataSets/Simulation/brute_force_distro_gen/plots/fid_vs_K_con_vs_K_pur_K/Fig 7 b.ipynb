{
 "cells": [
  {
   "cell_type": "code",
   "execution_count": 4,
   "metadata": {
    "collapsed": true
   },
   "outputs": [],
   "source": [
    "import sys\n",
    "# sys.path.insert(0, '../../utils')\n",
    "import pandas as pd\n",
    "import numpy as np\n",
    "# from mpl_toolkits import mplot3d\n",
    "# import matplotlib\n",
    "# matplotlib.use('Agg')\n",
    "import matplotlib.pyplot as plt\n",
    "import Fidelity_Measure as fm\n",
    "import Purity_Measure as pm\n",
    "import Concurrence_Measure as cm\n",
    "import os"
   ]
  },
  {
   "cell_type": "code",
   "execution_count": 5,
   "outputs": [
    {
     "data": {
      "text/plain": "<Figure size 432x288 with 1 Axes>",
      "image/png": "[encoded data removed]"
     },
     "metadata": {
      "needs_background": "light"
     },
     "output_type": "display_data"
    }
   ],
   "source": [
    "tomo_test, dm_test, dm_mle = pd.read_pickle(f'../../../../IBMQ/test_data/testdata_qubit_size_2.pkl')\n",
    "# tomo_test, dm_test, dm_mle = pd.read_pickle(f'Data-Centric-QIS/section_A/DataSets/IBMQ/test_data/testdata_qubit_size_2.pkl')\n",
    "\n",
    "con_test = cm.concurrence(dm_mle)\n",
    "pur_test = pm.purity(dm_mle)\n",
    "\n",
    "\n",
    "\n",
    "kparams_values = ['4_no_truncation', '5_no_truncation', '6_no_truncation', '7_no_truncation', '8_no_truncation', 4, 5, 6, 7, 8]\n",
    "K = [4, 5, 6, 7, 8]\n",
    "fidelity_list, fidelity_av, dms, cm_list, pur_list, params_list = pd.read_pickle(\"../../test_prediction_results_data_driven/fidelity_list_fid_av_pred_dm_params_alpha_0.3394171312620001_k_params_['4_no_truncation', '5_no_truncation', '6_no_truncation', '7_no_truncation', '8_no_truncation', 4, 5, 6, 7, 8].pickle\")\n",
    "\n",
    "\n",
    "fid_nn = np.array(fidelity_list)\n",
    "fid_nn_unfit = fid_nn[:5]\n",
    "fid_nn_unfit_m = np.mean(fid_nn_unfit, axis=1)\n",
    "fid_nn_unfit_std = np.std(fid_nn_unfit, axis=1)\n",
    "fid_nn_fit = fid_nn[5:]\n",
    "fid_nn_fit_m = np.mean(fid_nn_fit, axis=1)\n",
    "fid_nn_fit_std = np.std(fid_nn_fit, axis=1)\n",
    "\n",
    "\n",
    "con_nn = np.array(cm_list)\n",
    "pur_nn = np.array(pur_list)\n",
    "\n",
    "# plt.errorbar(K, mle_mean, yerr=mle_std, xerr=None, fmt='--ko', ecolor='k',\n",
    "#              elinewidth=1.5, linewidth=1.5, markersize=5, capsize=5, barsabove=False, lolims=False, uplims=False,\n",
    "#              xlolims=False, xuplims=False, errorevery=1, capthick=1, data=None, label='MLE')\n",
    "\n",
    "plt.errorbar(K, fid_nn_fit_m, yerr=fid_nn_fit_std, xerr=None, fmt='-ro', ecolor='r',\n",
    "             elinewidth=1.5, linewidth=1.5, markersize=5, capsize=5, barsabove=False, lolims=False, uplims=False,\n",
    "             xlolims=False, xuplims=False, errorevery=1, capthick=1, data=None, label='Engineered (NN)')\n",
    "\n",
    "\n",
    "plt.errorbar(K, fid_nn_unfit_m, yerr=fid_nn_unfit_std, xerr=None, fmt='-bo', ecolor='b',\n",
    "             elinewidth=1.5, linewidth=1.5, markersize=5, capsize=5, barsabove=False, lolims=False, uplims=False,\n",
    "             xlolims=False, xuplims=False, errorevery=1, capthick=1, data=None, label=r'Unfiltered (NN)')\n",
    "\n",
    "\n",
    "fs = 18\n",
    "plt.grid(alpha=0.2)\n",
    "plt.xlabel(r'K', fontsize=fs)\n",
    "plt.ylabel('Fidelity', fontsize=fs)\n",
    "plt.legend()\n",
    "plt.xticks(np.arange(4, 9), fontsize=fs)\n",
    "plt.yticks(fontsize=fs)\n",
    "\n",
    "# plt.axis([-0.7e6, 6e6, 0.55, 1.02])\n",
    "plt.subplots_adjust(bottom=0.13, left=0.13)\n",
    "plt.axis([3.75, 8.25, 0.9, 1.])\n",
    "plt.subplots_adjust(bottom=0.3, left=0.3)\n",
    "\n",
    "# plt.savefig('fid_vs_params.svg', dpi=600)\n",
    "# plt.savefig('eta_vs_purity.svg', dpi=600)\n",
    "# plt.savefig('Data-Centric-QIS/section_A/DataSets/Simulation/brute_force_distro_gen/plots/fid_vs_K_con_vs_K_pur_K/fid_vs_K_zoomed_no_mle.png', dpi=600)\n",
    "\n",
    "plt.show()\n"
   ],
   "metadata": {
    "collapsed": false,
    "pycharm": {
     "name": "#%%\n"
    }
   }
  }
 ],
 "metadata": {
  "kernelspec": {
   "display_name": "Python 3",
   "language": "python",
   "name": "python3"
  },
  "language_info": {
   "codemirror_mode": {
    "name": "ipython",
    "version": 2
   },
   "file_extension": ".py",
   "mimetype": "text/x-python",
   "name": "python",
   "nbconvert_exporter": "python",
   "pygments_lexer": "ipython2",
   "version": "2.7.6"
  }
 },
 "nbformat": 4,
 "nbformat_minor": 0
}